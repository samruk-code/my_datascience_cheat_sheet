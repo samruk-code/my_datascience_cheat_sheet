{
 "cells": [
  {
   "cell_type": "markdown",
   "id": "e8e7e51c-76ff-4312-a1b0-18184e2472e8",
   "metadata": {},
   "source": [
    "# Introduction to Python "
   ]
  },
  {
   "cell_type": "code",
   "execution_count": 1,
   "id": "3c4ab825-6966-432b-b2fb-5d5f09d86840",
   "metadata": {},
   "outputs": [],
   "source": [
    "# python is a general perpose programming language which is used to anything but the reason for python \n",
    "# widely used in data scinece is its rich data science libraries and community "
   ]
  },
  {
   "cell_type": "code",
   "execution_count": null,
   "id": "4c5076a4-2872-4203-8fab-2fc3d39dabd7",
   "metadata": {},
   "outputs": [],
   "source": [
    "# python script file saved with .py extension "
   ]
  },
  {
   "cell_type": "code",
   "execution_count": null,
   "id": "09295066-7922-4d97-bb9e-4e59c9492678",
   "metadata": {},
   "outputs": [],
   "source": [
    "print(\"Samruth is the gretest\") # just print the output "
   ]
  },
  {
   "cell_type": "code",
   "execution_count": null,
   "id": "dc626f1f-0682-4275-a4e3-44a3bf889470",
   "metadata": {},
   "outputs": [],
   "source": [
    "variable_name = \"value\" # variable is used to store value and reference when needed "
   ]
  },
  {
   "cell_type": "code",
   "execution_count": null,
   "id": "af11423a-e639-4549-878e-98f58645d77c",
   "metadata": {},
   "outputs": [],
   "source": [
    "type(variable_name) # find out the type of the variable "
   ]
  },
  {
   "cell_type": "code",
   "execution_count": null,
   "id": "96a0fffe-b5da-4a88-b23e-cdaa8fca826b",
   "metadata": {},
   "outputs": [],
   "source": [
    "# flot, int, bool, str, none are the basic types in python different type behave differently with operaters "
   ]
  },
  {
   "cell_type": "code",
   "execution_count": null,
   "id": "1fff73a4-537c-439e-8b82-421b8ed64a0b",
   "metadata": {},
   "outputs": [],
   "source": [
    "list_name = [1 ,2 ,3] # only one type list \n",
    "list_name = [1, \"a\", True] # multi type list also can create list of list "
   ]
  },
  {
   "cell_type": "code",
   "execution_count": null,
   "id": "08e2d4c5-a8c6-4c46-bcc2-7b09db09aad1",
   "metadata": {},
   "outputs": [],
   "source": [
    "list_name[index] # selecting elements in list also negative index used \n",
    "list_name[start:end:step] # sebsetting slicing "
   ]
  },
  {
   "cell_type": "code",
   "execution_count": null,
   "id": "9c421069-5705-49a8-84f7-063659287128",
   "metadata": {},
   "outputs": [],
   "source": [
    "list_name[index] = value # assigning new element to existing list \n",
    "list_name[index: index] = [value, value] # assigning mutiple elements to list \n",
    "list_name + list_name # concatinatting list\n",
    "del(list_name[index]) # deletting specific element of list "
   ]
  },
  {
   "cell_type": "code",
   "execution_count": null,
   "id": "bf7e37c2-33c2-4465-b652-78ccdb35f3d7",
   "metadata": {},
   "outputs": [],
   "source": [
    "list_name_1 = list_name # referencing same list not copying \n",
    "list_name_copy = list(list_name) # copying all the elements of the list \n",
    "list_name_copy = list_name[:] # copying all the elements of the list "
   ]
  },
  {
   "cell_type": "code",
   "execution_count": null,
   "id": "3b51eeb9-3f95-441f-8eaf-c9c15079b4e8",
   "metadata": {},
   "outputs": [],
   "source": [
    "# functions are block of code we can reuse it as needed \n",
    "max(), min() # finding the min and max "
   ]
  },
  {
   "cell_type": "code",
   "execution_count": null,
   "id": "fa69102a-13a2-4f4f-813a-4944882c69a9",
   "metadata": {},
   "outputs": [],
   "source": [
    "round(value, ndigits) # rounding the float value to given decimal point "
   ]
  },
  {
   "cell_type": "code",
   "execution_count": null,
   "id": "bcdfe112-275b-4994-bfb0-66e2947a4efa",
   "metadata": {},
   "outputs": [],
   "source": [
    "help(function) # to find the documation for function "
   ]
  },
  {
   "cell_type": "code",
   "execution_count": null,
   "id": "464e609f-229a-4afa-ace2-8e42d768606a",
   "metadata": {},
   "outputs": [],
   "source": [
    "# in python everything are objects, methods are type of function but only belong to objects \n",
    "list_name.index(\"value\")\n",
    "list_name.count(\"value\")\n",
    "list_name.capitalize(\"value\")\n",
    "list_name.replace(\"value\",\"value\") \n",
    "list_name.append(\"value\")"
   ]
  },
  {
   "cell_type": "code",
   "execution_count": null,
   "id": "c20432bd-b76d-4839-b5eb-38d732032d6d",
   "metadata": {},
   "outputs": [],
   "source": [
    "# on commant line \n",
    "python3 get-pip.py # install the pip on computer\n",
    "pip3 install numpy  # install numpy through pip "
   ]
  },
  {
   "cell_type": "code",
   "execution_count": null,
   "id": "9ae99c36-3f26-4058-962c-cd1cefc1805e",
   "metadata": {},
   "outputs": [],
   "source": [
    "import numpy as np # importing entire numpy package and aliased as np\n",
    "from numpy import array  # importing only array function from numpy package"
   ]
  },
  {
   "cell_type": "code",
   "execution_count": null,
   "id": "2c8784be-05f0-402f-8070-ea1a5a175b6b",
   "metadata": {},
   "outputs": [],
   "source": [
    "ndarray = np.array(list, list of lists) # creating a array and  numpy only can contain  one type "
   ]
  },
  {
   "cell_type": "code",
   "execution_count": null,
   "id": "a880d779-0498-4295-b7b6-a2a723d1569e",
   "metadata": {},
   "outputs": [],
   "source": [
    "# numpy array has different behavior than python list when used with operators "
   ]
  },
  {
   "cell_type": "code",
   "execution_count": null,
   "id": "f4416a50-10c1-4332-8877-eb054f38b46d",
   "metadata": {},
   "outputs": [],
   "source": [
    "nd_array[index] # slecting specific slement \n",
    "nd_array > condition # creating a condition array to subsetting a dataset \n",
    "nd_array[index][index] # subsetting 2 diamentional array\n",
    "nd_array[index,index] # subsetting 2 diamentional array \n",
    "nd_array[start,end,step] \n",
    "nd_array[value:value, value:value]"
   ]
  },
  {
   "cell_type": "code",
   "execution_count": null,
   "id": "a0646290-f120-4830-b672-0c30587beda3",
   "metadata": {},
   "outputs": [],
   "source": [
    "# basic statistical function in numpy \n",
    "np.mean()\n",
    "np.median()\n",
    "np.corrcoef()\n",
    "np.std()\n",
    "np.sort()"
   ]
  },
  {
   "cell_type": "markdown",
   "id": "c44d9dea-68a4-4d29-860d-880ad880ab98",
   "metadata": {},
   "source": [
    "# Introduction to Numpy"
   ]
  },
  {
   "cell_type": "code",
   "execution_count": null,
   "id": "7a722b63-78cf-4d5a-a757-4da9d1d535a2",
   "metadata": {},
   "outputs": [],
   "source": [
    "import numpy as np\n",
    "ndarray = np.array(list_of_values)  # creating a numpy array\n",
    "ndarray = np.array(list_of_lists) # creating list of list, can only contain single data type "
   ]
  },
  {
   "cell_type": "code",
   "execution_count": null,
   "id": "ad9f1bc2-9508-4c67-8c91-9e620535b304",
   "metadata": {},
   "outputs": [],
   "source": [
    "np.zeros((4,3)) # zero array 4 row and 3 column"
   ]
  },
  {
   "cell_type": "code",
   "execution_count": null,
   "id": "1b988dbd-dc8b-413a-806b-8160a6f54e68",
   "metadata": {},
   "outputs": [],
   "source": [
    "np.random.random((4,3)) # random numbers between 0 and 1 "
   ]
  },
  {
   "cell_type": "code",
   "execution_count": null,
   "id": "efeae455-7998-4f7e-b4e3-4f2895166676",
   "metadata": {},
   "outputs": [],
   "source": [
    "np.arrange(start,stop,number_of_value) # defult start is 0, end value excluded "
   ]
  },
  {
   "cell_type": "code",
   "execution_count": null,
   "id": "1df28c4a-1841-4ccc-94dc-9d7a23a99d87",
   "metadata": {},
   "outputs": [],
   "source": [
    "# if it is 1 dimensional array it is called vector\n",
    "# if it is 2 dimensional array it is called matrix\n",
    "# if it si 3 dimensional array it is called tensor "
   ]
  },
  {
   "cell_type": "code",
   "execution_count": null,
   "id": "0fe1384d-290b-4101-a26f-64a31a546990",
   "metadata": {},
   "outputs": [],
   "source": [
    "ndarray.shape # number of rows and columns rows are first dimension column are second diamension "
   ]
  },
  {
   "cell_type": "code",
   "execution_count": null,
   "id": "5bd2bdbd-e213-470e-be1c-ec949f2c46c0",
   "metadata": {},
   "outputs": [],
   "source": [
    "ndarray.flatten() # create 1 dimentional array\n",
    "ndarray.reshape() # reshaping array number of elements in the array must math the number of elements in the reshaping array "
   ]
  },
  {
   "cell_type": "code",
   "execution_count": null,
   "id": "55b63718-0d91-40d8-8b61-cdd349711d86",
   "metadata": {},
   "outputs": [],
   "source": [
    "ndarray.dtype # return type of the element in the array"
   ]
  },
  {
   "cell_type": "code",
   "execution_count": null,
   "id": "ce0fdf75-53e8-4409-8957-68e7fd392ebf",
   "metadata": {},
   "outputs": [],
   "source": [
    "ndarray = np.array(list_of_values, dtype = np.float32) # setting the data type when creating the array "
   ]
  },
  {
   "cell_type": "code",
   "execution_count": null,
   "id": "cd7c0e7f-5ac6-44f2-b5e8-ed359887df8f",
   "metadata": {},
   "outputs": [],
   "source": [
    "ndarray.astype(np.float32) # setting the data type, type coercion occur automatically when there was a conflicting data type "
   ]
  },
  {
   "cell_type": "code",
   "execution_count": null,
   "id": "2182a5c3-7248-4df5-acf3-8f89f5ca5f4a",
   "metadata": {},
   "outputs": [],
   "source": [
    "ndarray[index] # selecting a single element \n",
    "ndarray[index, index] # slecting a single value in matrix\n",
    "ndarray[index] # selectng entire row in matrix\n",
    "ndarray[,index] # selecting entire column in matrix \n",
    "ndarray[index:index, index:index] # selecting values \n",
    "ndarray[index:index:step, index:index:step]"
   ]
  },
  {
   "cell_type": "code",
   "execution_count": null,
   "id": "7c5241b2-7035-4e09-9c20-e4c667f6cf36",
   "metadata": {},
   "outputs": [],
   "source": [
    "np.sort()  # defult axis 1 if we want to set axis 0 to row vise "
   ]
  },
  {
   "cell_type": "code",
   "execution_count": null,
   "id": "71f32de1-7989-471e-ad87-6ba1378c32d0",
   "metadata": {},
   "outputs": [],
   "source": [
    "# boolean mask fancy indexing \n",
    "mask = ndarray == condition  # return array of elements \n",
    "ndarry[mask] # subsetting array by masking "
   ]
  },
  {
   "cell_type": "code",
   "execution_count": null,
   "id": "debded0f-9c57-4711-874b-499be094fe26",
   "metadata": {},
   "outputs": [],
   "source": [
    "# return array of indices can create an array based on whether elements do or don't meet condition \n",
    "np.where(condition)\n",
    "row_index, column_index = np.where(condition)\n",
    "np.where(condition, replace_value, defult_value) # find and replace "
   ]
  },
  {
   "cell_type": "code",
   "execution_count": null,
   "id": "0855241c-106f-4e3b-b105-6c7319c8ac19",
   "metadata": {},
   "outputs": [],
   "source": [
    "np.concatenate() # defult is axis = 0 shape must be compatible and dimention also need to compatible "
   ]
  },
  {
   "cell_type": "code",
   "execution_count": null,
   "id": "3d2550ae-0436-449c-ad41-782ab7730a3d",
   "metadata": {},
   "outputs": [],
   "source": [
    "np.delete() # delete row or column "
   ]
  },
  {
   "cell_type": "code",
   "execution_count": null,
   "id": "c6f522e4-94f4-4ec9-801c-fe25fc6fc58f",
   "metadata": {},
   "outputs": [],
   "source": [
    "# aggregation methods \n",
    "ndarray.sum() # defult axis is 0\n",
    "ndarray.min() # keepdims = True it helps keep same dimention as ndarray\n",
    "ndarray.max()\n",
    "ndarray.mean()\n",
    "ndarray.cumsum()"
   ]
  },
  {
   "cell_type": "code",
   "execution_count": null,
   "id": "2010fd49-fc5f-44a9-b133-3387035c5a45",
   "metadata": {},
   "outputs": [],
   "source": [
    "# basically all the operations in numpy are vectorised such as addition, mutiplication, masking and more if we want to vectarise normal python operation\n",
    "# we can use \n",
    "np.vectorize(function) # vectorizing normal function "
   ]
  },
  {
   "cell_type": "code",
   "execution_count": null,
   "id": "9d84e484-a619-447e-8036-1aa3a1888434",
   "metadata": {},
   "outputs": [],
   "source": [
    "# broadcasting numpy's super power - numpy compares sets of array dimensions from right to left - to broadcast at least on dimension must be equal\n",
    "# in order to broadcast "
   ]
  },
  {
   "cell_type": "code",
   "execution_count": null,
   "id": "bc73b30d-addc-410c-9b56-7ee9d531826a",
   "metadata": {},
   "outputs": [],
   "source": [
    "# we can save numpy arrays in .csv, .txt, .pkl, .npy formats \n",
    "with open(\"file_name\", \"rb\") as file:\n",
    "    rgb_array = np.load(file)\n",
    "plt.imshow(rgb_array) # plottig rgb arrays\n",
    "plt.show()\n",
    "\n",
    "# saving to drive\n",
    "with open(\"file_name\", \"wb\") as file:\n",
    "    np.save(file, file_name)"
   ]
  },
  {
   "cell_type": "code",
   "execution_count": null,
   "id": "89b96ec4-44c6-41dd-9fbb-e70e9c24073f",
   "metadata": {},
   "outputs": [],
   "source": [
    "help(np.function) # get the numpy functions documentation "
   ]
  },
  {
   "cell_type": "code",
   "execution_count": null,
   "id": "49851bca-b470-4ddb-aa93-995be9c0759e",
   "metadata": {},
   "outputs": [],
   "source": [
    "# array acrobatics, data agumentation \n",
    "np.flip()  # we can use the axis argument to change the flipping orientation \n",
    "np.transpose() # we can use the axis argument to change the tansposing orientation "
   ]
  },
  {
   "cell_type": "code",
   "execution_count": null,
   "id": "b59c3553-5bbd-48b4-99a1-4a96dc08bbde",
   "metadata": {},
   "outputs": [],
   "source": [
    "np.split(nd_array, number of arrays, axis to split) # splitting array"
   ]
  },
  {
   "cell_type": "code",
   "execution_count": null,
   "id": "f18d6969-020d-46ed-b1e2-3c01e7053402",
   "metadata": {},
   "outputs": [],
   "source": [
    "np.stack([array, array, array], axis_to_merge) # staking the arrays"
   ]
  },
  {
   "cell_type": "markdown",
   "id": "119a52e1-01d3-49d1-9b80-248447b21b97",
   "metadata": {},
   "source": [
    "# Intermediate python"
   ]
  },
  {
   "cell_type": "code",
   "execution_count": null,
   "id": "cea9907f-ef68-4d9d-bdb1-7583b0565f53",
   "metadata": {},
   "outputs": [],
   "source": [
    "import matplotlib.pyplot as plt \n",
    "plt.plot(x = \"column_name\", y = \"column_name\") # line plot\n",
    "plt.scatter(x = \"column_name\", y = \"column_name\") # scatter plot\n",
    "plt.hist(x = \"column_name\", bins = 10) # histograme\n",
    "plt.xlabel(\"xlabel\") # xlabel\n",
    "plt.ylabel(\"ylabel\") # ylabel\n",
    "plt.title(\"title\") # title\n",
    "plt.yticks([list_of_ticks],[list_of_tick_label]) # ylebel axis ticks\n",
    "plt.show() # plot the graph"
   ]
  },
  {
   "cell_type": "code",
   "execution_count": null,
   "id": "057523b1-0bed-45e9-b02d-b11f70e65b69",
   "metadata": {},
   "outputs": [],
   "source": [
    "# creating dictionary\n",
    "dictionary_name = {} # there is no duplicate keys are allowed\n",
    "dictionary_name = { # keys have to be immutable objects\n",
    "    \"key_1\" : \"value_1\",\n",
    "    \"key_2\" : \"value_2\"\n",
    "}\n",
    "\n",
    "dictionary_name[\"key\"] = value # adding new value to dictionary \n",
    "\"key\" in dictionary_name # checking whether key exist in the dictionary or not \n",
    "del(dictionary_name[\"key\"]) # deleting the element in the dictionary "
   ]
  },
  {
   "cell_type": "code",
   "execution_count": null,
   "id": "477ab56c-1c95-4922-a081-c44dd9e620dc",
   "metadata": {},
   "outputs": [],
   "source": [
    "# pandas dataframe easily created by dictionary \n",
    "dataframe = pd.DataFrame(dictionary_name)\n",
    "dataframe.index # return row label\n",
    "dataframe.columns # return columns\n",
    "dataframe = read_csv(\"file_name.csv\", index_col = index_of_the_column) # reading csv file as a dataframe"
   ]
  },
  {
   "cell_type": "code",
   "execution_count": null,
   "id": "44a12fce-18ab-4ab1-a711-bc737d8701ad",
   "metadata": {},
   "outputs": [],
   "source": [
    "dataframe[\"column_name\"] # selecting by column_name return pandas series object\n",
    "dataframe[[\"column_name\"]] # selecting by column_name return pandas dataframe object\n",
    "dataframe[[\"column_name\", \"column_name\"]]\n",
    "dataframe[1] # selecting by row index\n",
    "dataframe[1:4] # selectig by row index\n",
    "dataframe.loc[\"row_index\"] # selecting row by labeled row index, pandas series\n",
    "dataframe.loc[[\"row_index\"]] # selecting row by labeled row index, pandas dataframe\n",
    "dataframe.loc[[\"row_index\", \"row_index\"], [\"column_name\", \"column_name\"]] \n",
    "dataframe.loc[:, :] # all the rows and columns\n",
    "dataframe.iloc[[1:5],[5:6]] # subsetting dataframe by index loc method "
   ]
  },
  {
   "cell_type": "code",
   "execution_count": null,
   "id": "b23e1a09-2ca1-4e39-8aed-e103dbbcf3ab",
   "metadata": {},
   "outputs": [],
   "source": [
    "# comparisons operators ==, !=, <, >, <=, >= \n",
    "# boolean operators and, or, not\n",
    "# numpy equivalent boolean operators\n",
    "np.logical_and()\n",
    "np.logical_or()\n",
    "np.logical_not()"
   ]
  },
  {
   "cell_type": "code",
   "execution_count": null,
   "id": "df6b9d05-f4ef-4851-ad4b-2ae1ba2d781e",
   "metadata": {},
   "outputs": [],
   "source": [
    "if condition:\n",
    "    # code block\n",
    "elif condition:\n",
    "    # code block\n",
    "else:\n",
    "    # code blobk"
   ]
  },
  {
   "cell_type": "code",
   "execution_count": null,
   "id": "7e3d364b-c36e-4741-b2d4-0f8645199caa",
   "metadata": {},
   "outputs": [],
   "source": [
    "# while loop is like repeated if statment it runs as long as condition is true \n",
    "intial_value = value\n",
    "while condition:\n",
    "    expression "
   ]
  },
  {
   "cell_type": "code",
   "execution_count": null,
   "id": "77598050-fd43-40c4-bed3-efeefc495e9a",
   "metadata": {},
   "outputs": [],
   "source": [
    "for value in sequence: # runs as long as there is a element in the sequence\n",
    "    expression\n",
    "\n",
    "for index,value in enumerate(sequence):\n",
    "    expression \n",
    "\n",
    "for key, value in dictionary.items(): # for dictionry\n",
    "    expression \n",
    "\n",
    "for value in np.nditer(sequence): # for numpy array\n",
    "    expression \n",
    "\n",
    "for value in dataframe: # for dataframe\n",
    "    expression \n",
    "\n",
    "for label, row in dataframe.iterrows(): # iterate over dataframe rows\n",
    "    expression "
   ]
  },
  {
   "cell_type": "code",
   "execution_count": null,
   "id": "8ae74015-c45f-4f27-b854-ffdae165be64",
   "metadata": {},
   "outputs": [],
   "source": [
    "np.random.seed() # set the seed to reproduce the same result \n",
    "np.random.rand()  # pseudo random \n",
    "np.random.randint() # return pseudo random numbers "
   ]
  },
  {
   "cell_type": "markdown",
   "id": "f871187f-243e-4f07-90ab-7115ac491823",
   "metadata": {},
   "source": [
    "# introduction to python for developers "
   ]
  },
  {
   "cell_type": "code",
   "execution_count": null,
   "id": "6f29e63e-6614-4926-a601-062d357a314f",
   "metadata": {},
   "outputs": [],
   "source": []
  }
 ],
 "metadata": {
  "kernelspec": {
   "display_name": "Python 3 (ipykernel)",
   "language": "python",
   "name": "python3"
  },
  "language_info": {
   "codemirror_mode": {
    "name": "ipython",
    "version": 3
   },
   "file_extension": ".py",
   "mimetype": "text/x-python",
   "name": "python",
   "nbconvert_exporter": "python",
   "pygments_lexer": "ipython3",
   "version": "3.12.4"
  }
 },
 "nbformat": 4,
 "nbformat_minor": 5
}
