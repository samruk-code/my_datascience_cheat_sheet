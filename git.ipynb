{
 "cells": [
  {
   "cell_type": "markdown",
   "id": "eadac70c-953e-4b43-81a2-bb515b88cab1",
   "metadata": {},
   "source": [
    "### Intro to Git"
   ]
  },
  {
   "cell_type": "markdown",
   "id": "b092515c-33fa-4c00-9f33-94b142aa6082",
   "metadata": {},
   "source": [
    "version control is processes and systems to manage chnages to files, programs, and directories. it is useful for anything that chnages over time or needs to be shared.<br>\n",
    "track files in different states, combine different versions of files, identify a particular versions, revert chnages. \n",
    "```\n",
    "pwd\n",
    "ls\n",
    "cd\n",
    "```"
   ]
  },
  {
   "cell_type": "markdown",
   "id": "accccf60-2c15-4d7b-a664-c13aabb5cb51",
   "metadata": {},
   "source": [
    "```\n",
    "git --version\n",
    "```"
   ]
  },
  {
   "cell_type": "markdown",
   "id": "3d4e7b48-020e-42d4-9666-753352ca7335",
   "metadata": {},
   "source": [
    "Git repo - directory containing files and sub-directories<br>\n",
    "```.git``` directory is located in the directory that we are tracking and it contain all the details of tracking repo.\n",
    "```\n",
    "git init name_of_project\n",
    "git status\n",
    "```"
   ]
  },
  {
   "cell_type": "markdown",
   "id": "735a71d7-78ba-4eb7-aa7e-8cc8f220449a",
   "metadata": {},
   "source": [
    "converting an existing directory into a Git repo\n",
    "```\n",
    "git init\n",
    "```\n",
    "avoid creating nested git repo"
   ]
  },
  {
   "cell_type": "markdown",
   "id": "3f23d454-e29f-4e57-8b49-74fd0c8ffa7a",
   "metadata": {},
   "source": [
    "git workflow\n",
    "```\n",
    "git add file_name.ext\n",
    "git add .\n",
    "git commit -m 'message'\n",
    "```"
   ]
  },
  {
   "cell_type": "markdown",
   "id": "7a984568-150d-4fa0-b6ac-8ea04dd68bb5",
   "metadata": {},
   "source": [
    "commit has three parts - commit (contains the metadata - author, log message, commit time), tree (tracks the names and locations of files and directories i the repo, like a dictionary - mapping keys to files and directories), blob (binary large object, may contain data of any kind, a compressed snapshot of a file's contents)<br>\n",
    "hash - hash function, hashes allow data sharing between repos. if two files are the same then their hashes are the same. git only needs to compare hashes. \n",
    "```\n",
    "git log\n",
    "```\n",
    "```-n``` we can restrict the number of commits displyed <br>\n",
    "``` file_name ```to only look at the commit history of one file <br>\n",
    "``` --since='Month Day Year' --until='Month Day Year'``` restrict git log by date(many date formatting work)\n",
    "\n",
    "```git show c27fa856``` show specific commit"
   ]
  },
  {
   "cell_type": "markdown",
   "id": "0fc08377-a3a3-487c-aff6-0af5e062e78c",
   "metadata": {},
   "source": [
    "``` git diff ``` difference between versions"
   ]
  },
  {
   "cell_type": "markdown",
   "id": "62a26af0-d980-473f-aa08-f201d5896b9b",
   "metadata": {},
   "source": [
    "``` git diff --staged file_name.ext ``` compare last committed version of file_name with the version in the staging area\n",
    "``` git diff commit-hash commit-hash ```  put the recent commit second"
   ]
  },
  {
   "cell_type": "markdown",
   "id": "9acab0ad-e2f3-4a18-bbfc-3771e00798c5",
   "metadata": {},
   "source": [
    "``` git diff HEAD~1 HEAD ``` compare second most recent with the most recent commit"
   ]
  },
  {
   "cell_type": "markdown",
   "id": "d9cb74e7-56cb-444d-a56a-296cf123353e",
   "metadata": {},
   "source": [
    "``` git revert``` restoring a repo to the state prior to the previous commit, restores all files updated in the given commit for provid a reference commit hash or HEAD used."
   ]
  },
  {
   "cell_type": "markdown",
   "id": "808a838c-4cf6-4d91-85af-ce21f758c6b9",
   "metadata": {},
   "source": [
    "```\n",
    "git revert HEAD\n",
    "```\n",
    "revert to last version of commit\n",
    "\n",
    "```\n",
    "git revert --no-edit HEAD\n",
    "```\n",
    "revert without commit message"
   ]
  },
  {
   "cell_type": "markdown",
   "id": "0cfe6a6c-3d3b-4615-ba6e-1733e3c0985c",
   "metadata": {},
   "source": [
    "```\n",
    "git revert -n HEAD \n",
    "```\n",
    "revert without committing (bring files into the staging area)<br>\n",
    "revert work on commits level not individual files."
   ]
  },
  {
   "cell_type": "markdown",
   "id": "dab9ae98-b764-4690-b1b3-ca6867cdb180",
   "metadata": {},
   "source": [
    "```\n",
    "git checkout \n",
    "```\n",
    "for revert single file.\n",
    "```\n",
    "git status \n",
    "```\n",
    "to confirm\n",
    "```\n",
    "git commit\n",
    "```\n",
    "to commit "
   ]
  },
  {
   "cell_type": "markdown",
   "id": "74dbc5f5-3b7a-48e0-9b9a-6f7e6da7ae82",
   "metadata": {},
   "source": [
    "```\n",
    "git restore --staged file_name.ext\n",
    "```\n",
    "to unstage a single file"
   ]
  },
  {
   "cell_type": "markdown",
   "id": "ae24ca50-3ab9-4fcb-8111-d5f0a6d8c37d",
   "metadata": {},
   "source": [
    "### Intermediate Git"
   ]
  },
  {
   "cell_type": "markdown",
   "id": "28054ca7-9b5d-42a6-b5d9-d4ebdcb4d52f",
   "metadata": {},
   "source": [
    "branch is an individual version of a repo, git uses branches to systamatically track multiple versions of files<br>\n",
    "main branch - works as expected <br>\n",
    "test branch - new feature development<br>\n",
    "multiple developers can work on a project simultaneously, compare the state of a repo between branches, combine contents, pushing new features to a live system.\n"
   ]
  },
  {
   "cell_type": "markdown",
   "id": "ff8ae73d-bac4-4bde-9f37-55ac9bb9eaad",
   "metadata": {},
   "source": [
    "```\n",
    "git branch branch-name\n",
    "```\n",
    "```*``` tells current branch\n",
    "```\n",
    "git switch\n",
    "```\n",
    "```\n",
    "git switch -c branch_name\n",
    "```\n",
    "create and switch to new branch"
   ]
  },
  {
   "cell_type": "markdown",
   "id": "e26ac2af-7960-4973-aabf-8e48a9564789",
   "metadata": {},
   "source": [
    "```\n",
    "git diff branch_name branch_name\n",
    "```"
   ]
  },
  {
   "cell_type": "markdown",
   "id": "47791ec2-ef8b-4f0a-b400-61bef176f5e0",
   "metadata": {},
   "source": [
    "```\n",
    "git branch -m current_branch_name new_name\n",
    "```"
   ]
  },
  {
   "cell_type": "markdown",
   "id": "1bde85e3-707f-46a7-a58a-6462b388be1d",
   "metadata": {},
   "source": [
    "```\n",
    "git branch -d branch_name\n",
    "```\n",
    "it produce a error of it has not been merged to main branch. otherwise use ```-D```\n"
   ]
  },
  {
   "cell_type": "markdown",
   "id": "004ef282-8c2c-48e6-b929-17f90defc8ea",
   "metadata": {},
   "source": [
    "when merging two branches the last commits from each branch ar called parent commits. source branch is the branch we want to merge from, destination is the branch we want to merge into. when merging two branches first switch to destination branch ``` git merge source```<br>\n",
    "```git merge source-branch destination-branch```"
   ]
  },
  {
   "cell_type": "markdown",
   "id": "89785326-d632-4b7f-a90d-3590e6344d3d",
   "metadata": {},
   "source": [
    "Conflict is a senario inability to resolve difference in the contents of one or more files between branches.\n",
    "```nano file-name``` to see conflict and edit then add and commits."
   ]
  },
  {
   "cell_type": "markdown",
   "id": "2b7b92bc-2563-4ffb-a0e4-622a21e8503a",
   "metadata": {},
   "source": [
    "```\n",
    "git clone path-to-project-repo\n",
    "```\n",
    "we can also clone local repo\n",
    "```\n",
    "git clone local-absolute-path\n",
    "```\n",
    "```\n",
    "git clone local-absolute-path new-name\n",
    "```\n",
    "list all remotes associated with the repo\n",
    "```\n",
    "git remote\n",
    "```\n",
    "```\n",
    "git remote -v\n",
    "```\n",
    "```\n",
    "git remote add name URL\n",
    "```"
   ]
  },
  {
   "cell_type": "markdown",
   "id": "44eae6f9-068e-413b-bb58-8ae58ae4fdfc",
   "metadata": {},
   "source": [
    "```\n",
    "git fetch origin\n",
    "```\n",
    "```\n",
    "git fetch origin branch-name\n",
    "```\n",
    "```\n",
    "git merge origin\n",
    "```\n",
    "get the data from remote repository\n",
    "```\n",
    "git pull origin\n",
    "```\n",
    "```\n",
    "git pull origin branch_name\n",
    "```\n",
    "fetch and merge remote repo<br>\n",
    "commit local changes before pull from remote repo"
   ]
  },
  {
   "cell_type": "markdown",
   "id": "72988483-dd63-41b1-9abd-4015ffbb641d",
   "metadata": {},
   "source": [
    "```\n",
    "git push remote branch-name\n",
    "```\n",
    "```\n",
    "git push origin main\n",
    "```\n",
    "```\n",
    "git push origin hotfix\n",
    "```\n",
    "when pushing branches that do not exit in the remote, it create that branch in remote\n"
   ]
  },
  {
   "cell_type": "markdown",
   "id": "a34497de-7b0d-4437-9748-a05d07b45424",
   "metadata": {},
   "source": [
    "### Advanced Git"
   ]
  },
  {
   "cell_type": "markdown",
   "id": "8125ec7c-b5d4-4f4b-9880-8f52eca89933",
   "metadata": {},
   "source": [
    "fast forward merge - keep a simple straight history, ideal for short-lived branches with simple changes<br>\n",
    "when not to use-need to preserve branch history, complex feature development in long-lived branches, merge conflit between branches - fast forward fails immediatley."
   ]
  },
  {
   "cell_type": "markdown",
   "id": "2fc43de2-0ee1-4db2-be01-3d33bf1bd79c",
   "metadata": {},
   "source": [
    "```\n",
    "git merge branch-name --ff-only\n",
    "```"
   ]
  },
  {
   "cell_type": "markdown",
   "id": "17d687e5-1d2a-44f5-8682-7ce75b3c16af",
   "metadata": {},
   "source": [
    "recursive merge - creates a merge commit with two parents, preserve the entire project history, ideal for long-lived branches, maintain branching structure<br>\n",
    "when not to use, when you eant to maintain a simple and linear history, quick and minor chnages."
   ]
  },
  {
   "cell_type": "markdown",
   "id": "c81dc567-5330-4b94-8bad-06f6a148c4dd",
   "metadata": {},
   "source": [
    "```\n",
    "git merge --no-ff branch-name\n",
    "```"
   ]
  },
  {
   "cell_type": "markdown",
   "id": "dc48e5e5-3458-4b3f-b4ba-93ef627acd20",
   "metadata": {},
   "source": [
    "squash merging - creates a single new commit on the target branch, combine all changes from the source branch-adds a regular commit with  one parent, added to target branch(not feature branch), doesn't preserve the detailed commit history of the sorce branch."
   ]
  },
  {
   "cell_type": "markdown",
   "id": "86926a4d-601d-49e4-b9ff-f29ccb9250f9",
   "metadata": {},
   "source": [
    "clean and linear, simplifies code review for large features, easier to revert the entire feature."
   ]
  },
  {
   "cell_type": "markdown",
   "id": "30e9cd41-0fc2-450d-807e-7ed1ee8d328c",
   "metadata": {},
   "source": [
    "```\n",
    "git checkout target-branch\n",
    "git merge --squash source-branch\n",
    "git commit -m 'squash commit'\n",
    "```"
   ]
  },
  {
   "cell_type": "markdown",
   "id": "78386220-04f9-4ace-b6f9-a061627d5e2c",
   "metadata": {},
   "source": [
    "octopus merge - merge three or more branches at once, creates a single merge commit with multiple , best used when branches do not conflict with each other, useful for intergrating multiple independent feature simultaneously, used for synchronizing several release branches for different versions of a projects."
   ]
  },
  {
   "cell_type": "markdown",
   "id": "eae10cdb-7e6a-42d4-b5c5-062bc2291c14",
   "metadata": {},
   "source": [
    "```\n",
    "git checkout target-branch\n",
    "git merge -s octopus branch-name branch-name branch-name\n",
    "```"
   ]
  },
  {
   "cell_type": "markdown",
   "id": "d256f5ae-fabc-46a5-93e1-447efb390fcc",
   "metadata": {},
   "source": [
    "git rebase - method to integrate changes, different from merge, removes merge commits for a cleaner history, maintains a linear commit graph for clarity\n",
    "```\n",
    "git checkout branch-name-1\n",
    "```\n",
    "then rebase with another branch\n",
    "```\n",
    "git rebase branch-name-2\n",
    "```\n",
    "branch-name-1 commits are recreated after branch-name-2's lastesr commit and rebased branch-name-1 commits get new hashes"
   ]
  },
  {
   "cell_type": "markdown",
   "id": "3dd22671-44d8-44fe-a4b9-f255c55043b5",
   "metadata": {},
   "source": [
    "```\n",
    "git rebase -i branch-name\n",
    "```\n",
    "allows developers to make granular chnages to multiple commits, commit using pick and fixup commands in the open editor."
   ]
  },
  {
   "cell_type": "markdown",
   "id": "0c308a17-9392-4b2b-9fd3-0f1d5e5019e2",
   "metadata": {
    "jp-MarkdownHeadingCollapsed": true
   },
   "source": [
    "merge - preserves full history and branch structure, maintains context of parallel development, for intergrating completed feeatures, preserving develpment  context<br>\n",
    "rebase - replays commit on top of the target branch, creates a linear history, loses some contextual information, for keeping feature branches updates with main, or for cleaning up before merging, rebase rewrites history-use it carefully"
   ]
  },
  {
   "cell_type": "markdown",
   "id": "9c625d2e-0c3c-47e1-9566-a3e177dea270",
   "metadata": {},
   "source": [
    "cherry-pick - applies  the changes from a specifc commit to another branch, apply specific fixes across branches.\n",
    "```\n",
    "git checkout target-branch\n",
    "```\n",
    "```\n",
    "git cherry-pick hash\n",
    "```\n",
    "if there is conflict with cherry pick, after resolving it\n",
    "```\n",
    "git cherry-pick --continue\n",
    "```\n",
    "to stop\n",
    "```\n",
    "git cherry-pick --abort\n",
    "```"
   ]
  },
  {
   "cell_type": "markdown",
   "id": "c4b3d050-9e78-49dc-81d3-e256185295be",
   "metadata": {},
   "source": [
    "bisect - a tool that uses binary search to find the commit that introduced a bug"
   ]
  },
  {
   "cell_type": "markdown",
   "id": "d091f150-c466-47b7-bc17-47add98ff6a6",
   "metadata": {},
   "source": [
    "```\n",
    "git bisect start\n",
    "git bisect bad\n",
    "git bisect good commit-hash\n",
    "```"
   ]
  },
  {
   "cell_type": "markdown",
   "id": "09ffacbd-7788-4693-b55c-6fa96d1306cd",
   "metadata": {},
   "source": [
    "```\n",
    "git bisect run test-script\n",
    "```\n",
    "if script return 0 it is pass otherwise there is error\n",
    "```\n",
    "git bisect reset\n",
    "```\n",
    "exit bisect mood"
   ]
  },
  {
   "cell_type": "markdown",
   "id": "1c5cca53-8964-4cc8-80c4-516dc2d49fc8",
   "metadata": {},
   "source": [
    "```git filter-repo``` a tool for rewriting git repository history quickly and safely, rename files and directories, operates on all branches simultaneously<br>\n",
    "remove sensitive data, clean up unnecessary files, restructure repositories, reduce repository size.\n",
    "it is 3rd part library so install it ``` pip install git-filter-repo```<br>\n",
    "``` git filter-repo --path file_name --inver-paths```<br>\n",
    "all branches and commit were updated, all commit hashes were changed, a force push is needed after this step, team members will need to clone repo again.<br>\n",
    "always back up you repository before using filter-repo, coordinate with collaborators before pushing rewritten history."
   ]
  },
  {
   "cell_type": "markdown",
   "id": "10f9bc90-ffef-412e-a443-14009e3c433e",
   "metadata": {},
   "source": [
    "reference log\n",
    "```\n",
    "git reflog\n",
    "git reflog show\n",
    "```\n",
    "local record of all reference updates in our repository. it is stored in ``` .git/logs/refs/heads/``` records changes to branch tips and Head position, acts a safeguard for our git operations, helps recover accidental changes or deletions.\n",
    "```\n",
    "git reflog expire\n",
    "git reflog --since 'time-qualifer'\n",
    "git reflog --until 'time-qualifer'\n",
    "```"
   ]
  }
 ],
 "metadata": {
  "kernelspec": {
   "display_name": "Python 3 (ipykernel)",
   "language": "python",
   "name": "python3"
  },
  "language_info": {
   "codemirror_mode": {
    "name": "ipython",
    "version": 3
   },
   "file_extension": ".py",
   "mimetype": "text/x-python",
   "name": "python",
   "nbconvert_exporter": "python",
   "pygments_lexer": "ipython3",
   "version": "3.13.5"
  }
 },
 "nbformat": 4,
 "nbformat_minor": 5
}
