{
 "cells": [
  {
   "cell_type": "markdown",
   "id": "5dffd1ce-8930-4da2-be93-cfecfdbc5745",
   "metadata": {},
   "source": [
    "# Introduction to data visualization with matplotlib"
   ]
  },
  {
   "cell_type": "code",
   "execution_count": 2,
   "id": "dad9f71d-0447-441f-a69b-645302957115",
   "metadata": {},
   "outputs": [],
   "source": [
    "import matplotlib.pyplot as plt # importing matplotlib package"
   ]
  },
  {
   "cell_type": "code",
   "execution_count": null,
   "id": "13650a03-8252-4c03-a8de-e4804a43cd62",
   "metadata": {},
   "outputs": [],
   "source": [
    "fig, ax = plt.subplots() # creating a figure and axes for plotting data\n",
    "plt.show() # show the plot"
   ]
  },
  {
   "cell_type": "code",
   "execution_count": null,
   "id": "f092d398-b222-40de-80b2-ee21da321af4",
   "metadata": {},
   "outputs": [],
   "source": [
    " # plotting a line graph\n",
    "ax.plot(x = \"column_name\", # x_value\n",
    "        y = \"column_name\", # y_value\n",
    "        marker = \"0\", # markter type\n",
    "        linestyle = \"--\", # line style\n",
    "        color = \"r\") # color"
   ]
  },
  {
   "cell_type": "code",
   "execution_count": null,
   "id": "97f042c1-533b-46e4-be5a-1010f6bdede8",
   "metadata": {},
   "outputs": [],
   "source": [
    "ax.set_xlabel(\"label\") # xlabel\n",
    "ax.set_ylabel(\"label\") # ylabel\n",
    "ax.set_title(\"title\") # title of the graph"
   ]
  },
  {
   "cell_type": "code",
   "execution_count": null,
   "id": "25609f12-7f8e-49db-ad29-f622b7364f46",
   "metadata": {},
   "outputs": [],
   "source": [
    "# small multiples\n",
    "fig, ax = plt.subplots(3,2, sharey = True) # 3 row # 2 column, sharing the y-axis range\n",
    "ax[0,0].plot(x = \"column_name\", y = \"column_name\") # plotting specific axis"
   ]
  },
  {
   "cell_type": "code",
   "execution_count": null,
   "id": "9c901c9e-7e3d-4759-ad55-37ec88304d6d",
   "metadata": {},
   "outputs": [],
   "source": [
    "# plotting time-series data\n",
    "dataframe = pd.read_csv(\"file_name\", parse_dates = [\"date\"], index_col = \"date\") # parsing time series dataframe set date column as a index\n",
    "dataframe.set_index(\"date_time_column\") # setting the x value for time series data\n",
    "fig, ax = subplots()\n",
    "ax.plot(x = dataframe.index, y = \"column_name\")\n",
    "plt.show()"
   ]
  },
  {
   "cell_type": "code",
   "execution_count": null,
   "id": "e84614ac-eae4-413e-b99e-407ebf67f95e",
   "metadata": {},
   "outputs": [],
   "source": [
    "# creating plot with twin y axis with annotation  \n",
    "fig, ax = plt.subplot()\n",
    "ax.plot(x = \"column_name\", y = \"column_name\", color = \"blue\")\n",
    "ax.set_xlabel(\"label\")\n",
    "ax.set_ylabel(\"label\", color = \"blue\")\n",
    "ax.tick_params(\"y\", colors = \"blue\") # setting axis tick color\n",
    "ax2 = ax.twinx() # setting 2 y_axis on same graph\n",
    "ax2.plot(x = \"column_name\", y = \"column_name\", color = \"red\") \n",
    "ax2.set_ylabel(\"label\", color = \"red\") \n",
    "ax2.set_params(\"y\", colors = \"red\") # setting axis tick color\n",
    "ax2.annotate(\"annotating_text\", xy = [\"x_location\", \"y_location\"], xytext = [\"x_location\",\"y_location\"], arrowprops = {\"arrowstyle\":\"->\",\"color\":\"grey\"})\n",
    "plt.show() # "
   ]
  },
  {
   "cell_type": "code",
   "execution_count": null,
   "id": "89972292-cfc5-4a37-8e90-a7a0d7443b95",
   "metadata": {},
   "outputs": [],
   "source": [
    "ax.bar(x = \"column_name\", y = \"column_name\") # creatting bar chart\n",
    "ax.set_xticklabels(x = \"column_name\", rotation = 90) # rotatting labels 90 degree"
   ]
  },
  {
   "cell_type": "code",
   "execution_count": null,
   "id": "9edfae5e-60cb-4262-b8fe-e31a4768ae4f",
   "metadata": {},
   "outputs": [],
   "source": [
    "ax.bar(x = \"column_name_1\", y = \"column_name_2\", label = \"label\")\n",
    "ax.bar(x = \"column_name_3\", y = \"column_name_4\", bottom = \"column_name_1\", label = \"label\")\n",
    "ax.bar(x = \"column_name_5\", y = \"column_name_6\", bottom = \"column_name_1\" + \"column_name_4\", label = \"label\")\n",
    "ax.legend()"
   ]
  },
  {
   "cell_type": "code",
   "execution_count": null,
   "id": "f71911b6-e600-4482-b403-445ccf1a90d8",
   "metadata": {},
   "outputs": [],
   "source": [
    "ax.bar(x = \"x_label\", y = \"column_name\".mean())\n",
    "ax.bar(x = \"x_label\", y = \"column_name\".mean())"
   ]
  },
  {
   "cell_type": "code",
   "execution_count": null,
   "id": "2ae79bd1-7672-4c2a-89ca-1b0d5388eccd",
   "metadata": {},
   "outputs": [],
   "source": [
    "ax.hist(dataframe[\"column_name\"], bins = 5, label = \"label\", histtype = \"step\") # histtype step create full transparent histgramme\n",
    "ax.hist(dataframe[\"column_name\"], bins = [5,10,15,20,25,30], label = \"label\") "
   ]
  },
  {
   "cell_type": "code",
   "execution_count": null,
   "id": "97dbd3ca-f993-45c4-8a92-5ddf7bba1685",
   "metadata": {},
   "outputs": [],
   "source": [
    "ax.bar(x = \"x_label\", y = \"column_name\".mean(), yerr = \"column_name\".std()) # yerr = plotting the error bar "
   ]
  },
  {
   "cell_type": "code",
   "execution_count": null,
   "id": "8da47546-e531-4cdc-ab74-cf5c9dd851a0",
   "metadata": {},
   "outputs": [],
   "source": [
    "ax.errorbar(x = \"column_name\", y = \"column_name\", yerr = \"column_name\") # yerr = plotting the error bar "
   ]
  },
  {
   "cell_type": "code",
   "execution_count": null,
   "id": "67b07173-950f-4b9e-a9c0-e55b63025192",
   "metadata": {},
   "outputs": [],
   "source": [
    "ax.boxplot(x = \"column_name\", y = \"column_name\") # creating a boxplot\n",
    "ax.set_xticklabels([\"xlabel, ylabel\"]) # x_axis label"
   ]
  },
  {
   "cell_type": "code",
   "execution_count": null,
   "id": "3ee8b699-5af2-4571-b09b-74076f2aa3cd",
   "metadata": {},
   "outputs": [],
   "source": [
    "ax.scatter(x = \"column_name\", y = \"column_name\", c = \"column_name\") # c = color "
   ]
  },
  {
   "cell_type": "code",
   "execution_count": null,
   "id": "10e43e75-38a1-44c6-b780-f3e19e54060c",
   "metadata": {},
   "outputs": [],
   "source": [
    "plt.style.use(\"style\") # changing plotting style "
   ]
  },
  {
   "cell_type": "code",
   "execution_count": null,
   "id": "0b7f2c23-7e76-4a39-b983-619b24b05ab5",
   "metadata": {},
   "outputs": [],
   "source": [
    "fig.savefig(\"name.png\", quality = 50, dpi = 300) dpi = dot per inch # saving figure on the local drive"
   ]
  },
  {
   "cell_type": "code",
   "execution_count": null,
   "id": "5adb07da-f914-4034-baa3-cd412b14e32a",
   "metadata": {},
   "outputs": [],
   "source": [
    "fig.set_size_inches([5,3]) # setting figure size "
   ]
  },
  {
   "cell_type": "markdown",
   "id": "9bc63e97-4152-401e-ace6-6568dcaa0f24",
   "metadata": {},
   "source": [
    "# Introduction to Seaborn "
   ]
  },
  {
   "cell_type": "code",
   "execution_count": null,
   "id": "43e1b4f0-c43a-4c99-b423-ced00cf9ac45",
   "metadata": {},
   "outputs": [],
   "source": [
    "# importing library\n",
    "import matplotlib.pyplot as plt \n",
    "import seaborn as sns "
   ]
  },
  {
   "cell_type": "code",
   "execution_count": null,
   "id": "ecff5cfd-d93e-44d5-843d-e74ed068b98f",
   "metadata": {},
   "outputs": [],
   "source": [
    "dataframe = sns.load_dataset(\"name_of_the_dataset\") # loading datasets from seaborn packages "
   ]
  },
  {
   "cell_type": "code",
   "execution_count": null,
   "id": "5e837515-29b8-4dd3-92ba-b3c690711439",
   "metadata": {},
   "outputs": [],
   "source": [
    "sns.scatterplot(x = \"column_name\", # x_axis value\n",
    "                y = \"column_name\", # y_axis value\n",
    "                data = dataframe, # dataframe for plotting\n",
    "                hue = \"column_name\", # break down futher detail by third variable\n",
    "                hue_order = [\"yes\",\"no\"], # order of the used third variable\n",
    "                palette = {\"yes\" : \"black\", \"no\" : \"red\"}) # color for used third variable"
   ]
  },
  {
   "cell_type": "code",
   "execution_count": null,
   "id": "865c551d-45ef-4094-86d0-6115fa3111f6",
   "metadata": {},
   "outputs": [],
   "source": [
    "sns.countplot(x = \"column_name\", data = dataframe) # creating bar plot"
   ]
  },
  {
   "cell_type": "code",
   "execution_count": null,
   "id": "d4c7ce71-1fe0-4443-963c-6d65f1ba5492",
   "metadata": {},
   "outputs": [],
   "source": [
    "# creating subplots in a single figure \n",
    "sns.relplot(x = \"column_name\", # x_axis value \n",
    "            y = \"column_name\", # y_axi value\n",
    "            data = dataframe, # data frame\n",
    "            kind = \"scatter\", # kind of  plot\n",
    "            col  = \"column_name\", # break down plot column wise by third variable\n",
    "            row = \"column_name\", # break down plot row wise by third variable\n",
    "            col_warp = number to organzie plot, # organize plot by given number\n",
    "            col_order = [\"category\",\"category\",\"category\"], # order of the third variable catergory \n",
    "            size = \"column_name\", # use size as a theird variable to look for pattern \n",
    "            style = \"smoker\" # use style as a theird variable to look for pattern \n",
    "            alpha = 0.4 # transperancy \n",
    "           )"
   ]
  },
  {
   "cell_type": "code",
   "execution_count": null,
   "id": "9c2e72fe-c424-4355-bfbd-1772aaa34f7e",
   "metadata": {},
   "outputs": [],
   "source": [
    "sns.relplot(x = \"column_name\", # x_values\n",
    "            y = \"column_name\", # y_values\n",
    "            kind = \"line\", # line_plot\n",
    "            markers = True, # enable or disable markers \n",
    "            dashes = False, # enable or disable dashes\n",
    "            ci = \"sd\" # confidence interval \n",
    "           ) "
   ]
  },
  {
   "cell_type": "code",
   "execution_count": null,
   "id": "3f4a04ea-d8a4-44cb-9548-376732b1da5f",
   "metadata": {},
   "outputs": [],
   "source": [
    "sns.catplot(x = \"column_name\", # creating bar plot \n",
    "            data = dataframe,\n",
    "            kind = \"count\", # kind of plot\n",
    "            order = [\"category_1\", \"category_2\"],\n",
    "            ci = None, ) "
   ]
  },
  {
   "cell_type": "code",
   "execution_count": null,
   "id": "46be9d83-dfb9-4e94-b15e-c90dc407e21b",
   "metadata": {},
   "outputs": [],
   "source": [
    "sns.catplot(x = \"column_name\",# creating box plot \n",
    "            y = \"column_name\"\n",
    "            data = dataframe,\n",
    "            kind = \"box\",\n",
    "            order = [\"category_1\", \"category_2\"],\n",
    "            ci = None, # confidence interval\n",
    "            sym = \"\", # do not how outliners\n",
    "            whis = [0,100]) # include min and max"
   ]
  },
  {
   "cell_type": "code",
   "execution_count": null,
   "id": "9abaef87-8007-4591-b14e-b5b9883b5407",
   "metadata": {},
   "outputs": [],
   "source": [
    "sns.catplot(x = \"column_name\", # x_value\n",
    "            y = \"column_name\" # y_value\n",
    "            data = dataframe, # dataframe\n",
    "            kind = \"point\", # kind of plot\n",
    "            hue = \"column_name\", # drill down by third column\n",
    "            join = False, # disjoin line between data point\n",
    "            estimator = median, # statistical estimater \n",
    "            capsize = 0.2) # size of the error bar"
   ]
  },
  {
   "cell_type": "code",
   "execution_count": null,
   "id": "d63e56ce-c400-464c-b8b2-ce1f3b3f460e",
   "metadata": {},
   "outputs": [],
   "source": [
    "sns.set_style(\"style\") # setting the plotting style \n",
    "sns.set_palette(\"palette\") # setting color palette \n",
    "sns.set_context(\"context\") # setting the context "
   ]
  },
  {
   "cell_type": "code",
   "execution_count": null,
   "id": "490a8ec7-8707-4ec5-b0db-8ebb5d1ee696",
   "metadata": {},
   "outputs": [],
   "source": [
    "# FacetGrid \n",
    "plot = sns.catplot(x = \"column_name\",\n",
    "                   y = \"column_name\",\n",
    "                   data = dataframe,\n",
    "                   kind = \"box\")\n",
    "plot.fig.suptitle(\"title\", y = 1.03) # setting a title for plot, y = take up the title of the plot\n",
    "plot.set_titles(\"This is {col_name}\") # setting the title for each subplot in the facegrid\n",
    "plot.set(x_label = \"x_label\", y_label = \"y_label\") # setting axis label\n",
    "plt.xticks(rotation = 90) # rotating x_label"
   ]
  },
  {
   "cell_type": "code",
   "execution_count": null,
   "id": "e7126248-a28b-4443-8041-7efeea1ba256",
   "metadata": {},
   "outputs": [],
   "source": [
    "# AxesSubplot\n",
    "plot = sns.boxplot(x = \"column_name\",\n",
    "                   y = \"column_name\",\n",
    "                   data = dataframe)\n",
    "plot.set_title(\"title\", y = 1.03) # setting a title for plot, y = take up the title of the plot"
   ]
  },
  {
   "cell_type": "markdown",
   "id": "640be3fc-9597-452c-a5f1-a86e8ca329be",
   "metadata": {},
   "source": [
    "# Intermediate data visualization with seaborn"
   ]
  },
  {
   "cell_type": "code",
   "execution_count": null,
   "id": "026d332a-6c7d-4f13-84c2-2a758e65100a",
   "metadata": {},
   "outputs": [],
   "source": [
    "sns.histplot(dataframe[\"column_name\"]) # creating histograme"
   ]
  },
  {
   "cell_type": "code",
   "execution_count": null,
   "id": "69014d34-de78-4a87-8da9-24c44c1af341",
   "metadata": {},
   "outputs": [],
   "source": [
    "sns.displot(dataframe[\"column_name\"], # column to plot\n",
    "            kind = \"kde\", # kernal density estimation plot\n",
    "            rug = True, # rug in x axis\n",
    "            fill = true) # fill the gap under the curve\n",
    "sns.displot(dataframe[\"column_name\"], # histograme and kernal density plot in one graph\n",
    "            kde = True,  \n",
    "            bins = 10)  "
   ]
  },
  {
   "cell_type": "code",
   "execution_count": null,
   "id": "d82f0613-e73e-4a25-8c7e-ed1a31c98272",
   "metadata": {},
   "outputs": [],
   "source": [
    "sns.displot(dataframe[\"column_name\"], kind = \"ecdf\") # creating a cumulative distribution "
   ]
  },
  {
   "cell_type": "code",
   "execution_count": null,
   "id": "c4c8e96c-9e92-4cf9-b074-687db1233ddb",
   "metadata": {},
   "outputs": [],
   "source": [
    "sns.regplot(x = \"column_name\", y = \"column_name\", data = dataframe) # low level regression plot "
   ]
  },
  {
   "cell_type": "code",
   "execution_count": null,
   "id": "32764d9e-e0e9-4fdd-8b39-5afaca42681f",
   "metadata": {},
   "outputs": [],
   "source": [
    "sns.lmplot(x = \"column_name\", y = \"column_name\", data = dataframe, hue = \"column_name\", col = \"column_name\") # high level regression plot"
   ]
  },
  {
   "cell_type": "code",
   "execution_count": null,
   "id": "fc28d4aa-d2fe-4fa0-9e92-121405335f3c",
   "metadata": {},
   "outputs": [],
   "source": [
    "sns.set() # setting seaborn default configurations "
   ]
  },
  {
   "cell_type": "code",
   "execution_count": null,
   "id": "7d32be71-0488-4624-9758-b2769eca50dc",
   "metadata": {},
   "outputs": [],
   "source": [
    "sns.despine(left = True) # remove the plot spine "
   ]
  },
  {
   "cell_type": "code",
   "execution_count": null,
   "id": "2d3b7923-95ac-4007-9e97-1bbb2a9ee9f9",
   "metadata": {},
   "outputs": [],
   "source": [
    "sns.palplot() # display the palette\n",
    "sns.color_palette(\"name_of_the_palette\", number of colors) # current palette"
   ]
  },
  {
   "cell_type": "code",
   "execution_count": null,
   "id": "46c87ea9-932c-4a36-a954-87b1fe7fd6f6",
   "metadata": {},
   "outputs": [],
   "source": [
    "# we can customization available through matplotlib axes objects\n",
    "fig, ax = plt.subplots()\n",
    "sns.histplot(dataframe[\"column_name\"], ax = ax)\n",
    "ax.set(xlabel = \"label\" xlim = (0, 50000), title = \"title\") # xlim is the range of the x_axis"
   ]
  },
  {
   "cell_type": "code",
   "execution_count": null,
   "id": "4816546d-ceab-498e-b370-cf16c0ddfd27",
   "metadata": {},
   "outputs": [],
   "source": [
    "fig, (ax0, ax1) = plt.subplot(nrows = 1, ncols =2, sharey = True, figsize = (7,4)) # creating platform to create plots\n",
    "\n",
    "sns.histplot(x = \"column_name\", data = dataframe, ax = ax0) # creating plot\n",
    "sns.histplot(x = \"column_name\", data = dataframe, ax = ax1) # creating plot \n",
    "\n",
    "ax1.set(xlabel = \"label\", xlim = (0, 10000)) # setting x_label and x-axis range \n",
    "ax1.axvline(x = value, label = \"label\", linestyle = \"--\") # creating a vertical line \n",
    "ax1.legend()"
   ]
  },
  {
   "cell_type": "code",
   "execution_count": null,
   "id": "a836750f-a4d1-43d9-8ee1-95562ef822c5",
   "metadata": {},
   "outputs": [],
   "source": [
    "# categorical data represantation with striplot\n",
    "sns.stripplot(x = \"column_name\", y = \"column_name\", data = dataframe, jitter = True)"
   ]
  },
  {
   "cell_type": "code",
   "execution_count": null,
   "id": "b62ae76f-b7f9-4b3c-ae3c-4d62f4c84e3e",
   "metadata": {},
   "outputs": [],
   "source": [
    "# categorical data represantation with swarmplot\n",
    "sns.swarmplot(x = \"column_name\", y = \"column_name\", data = dataframe)"
   ]
  },
  {
   "cell_type": "code",
   "execution_count": null,
   "id": "fa0bf188-ebc7-4833-be94-0d9740ef5c8d",
   "metadata": {},
   "outputs": [],
   "source": [
    "# categorical data represantation with boxplot\n",
    "sns.boxplot(x = \"column_name\", y = \"column_name\", data = dataframe)"
   ]
  },
  {
   "cell_type": "code",
   "execution_count": 2,
   "id": "87b3c023-2f12-40cb-ba56-6965302346bb",
   "metadata": {},
   "outputs": [],
   "source": [
    "# categorical data represantation with violinplot\n",
    "sns.violinplot(x = \"column_name\", y = \"column_name\", data = dataframe)"
   ]
  },
  {
   "cell_type": "code",
   "execution_count": null,
   "id": "2699b996-18ce-41af-ab60-0690094853cb",
   "metadata": {},
   "outputs": [],
   "source": [
    "# categorical data represantation with boxenplot\n",
    "sns.boxenpot(x = \"column_name\". y = \"column_name\", data = dataframe)"
   ]
  },
  {
   "cell_type": "code",
   "execution_count": null,
   "id": "6574646e-4cdb-4b7f-bf7b-37cb11f7d526",
   "metadata": {},
   "outputs": [],
   "source": [
    "# categorical data represantation with boxenplot\n",
    "sns.barplot(x = \"column_name\", y = \"column_name\", data = dataframe, hue = \"column_name\")"
   ]
  },
  {
   "cell_type": "code",
   "execution_count": null,
   "id": "3efd066e-45ba-4435-b620-f71b2527335d",
   "metadata": {},
   "outputs": [],
   "source": [
    "# categorical data represantation with pointplot\n",
    "sns.pointplot(x = \"column_name\", y = \"column_name\", data = dataframe)"
   ]
  },
  {
   "cell_type": "code",
   "execution_count": null,
   "id": "a67e5bfb-12d4-481c-8e24-03cab7c5ad30",
   "metadata": {},
   "outputs": [],
   "source": [
    "sns.countplot(x = \"column_name\", y = \"column_name\", data = dataframe, hue = \"column_name\")"
   ]
  },
  {
   "cell_type": "code",
   "execution_count": null,
   "id": "30dfe072-546e-488c-8c7d-997a11bf8161",
   "metadata": {},
   "outputs": [],
   "source": [
    "# regression plots with seaborn\n",
    "sns.regplot(x = \"column_name\", y = \"column_name\", data = dataframe, marker = \"+\", order = 2) # order for polinomial regression \n",
    "# x_jitter, x_estimator, x_bins these are more parameters in the regplot "
   ]
  },
  {
   "cell_type": "code",
   "execution_count": null,
   "id": "1471e2f2-435d-43e7-8623-612c02e5f219",
   "metadata": {},
   "outputs": [],
   "source": [
    "# residplot with seaborn\n",
    "sns.residplot(x = \"column_name\", y = \"column_name\", data = dataframe, order = 2) # order for polinomial regression "
   ]
  },
  {
   "cell_type": "code",
   "execution_count": null,
   "id": "c3f6a2ea-daf1-4270-8a2f-5f6c78f3514b",
   "metadata": {},
   "outputs": [],
   "source": [
    "# pandas crosstab() function used to prepare data to heatmap() function in the seaborn \n",
    "heatmap =  pd.crosstab = (index = \"column_name\", columns = \"column_name\", values = \"column_name\", aggfunc = \"mean\")\n",
    "sns.heatmap(heatmap, annot = True, fmt = \"d\", cmap = \"\", cbar = True, linewidths = 0.5) # fmt for including text in heatmap cell"
   ]
  },
  {
   "cell_type": "code",
   "execution_count": null,
   "id": "86824a3a-0ea0-4dc4-b639-8c6fdd9a2676",
   "metadata": {},
   "outputs": [],
   "source": [
    "# creatting a correlation matrix \n",
    "columns = [\"column_name\", \"column_name\", \"column_name\"]\n",
    "sns.heatmap(dataframe[columns],corr(), cmap = \"\") "
   ]
  },
  {
   "cell_type": "code",
   "execution_count": null,
   "id": "135c900c-aabc-4009-9b5a-580b827b3d33",
   "metadata": {},
   "outputs": [],
   "source": [
    "plot = sns.FacetGrid(dataframe, col = \"column_name\") # creating faceted plots \n",
    "plot.map(sns.boxplot, col = \"column_name\", order = [])\n",
    "\n",
    "#catplot \n",
    "sns.catplot(x = \"column_name\", y = \"column_name\", data = dataframe, kind = \"box\")"
   ]
  },
  {
   "cell_type": "code",
   "execution_count": null,
   "id": "eb182913-9cab-4c1e-93c6-f9fffe2372aa",
   "metadata": {},
   "outputs": [],
   "source": [
    "sns.lmplot(x = \"column_name\", y = \"column_name\", data = dataframe) # same as below \n",
    "\n",
    "plot = sns.FacetGrid(data = dataframe, col = \"column_name\")\n",
    "plot.map(sns.scatter, col = \"column_name\")"
   ]
  },
  {
   "cell_type": "code",
   "execution_count": null,
   "id": "1ab4490d-6be3-4ff0-9f0b-ad70643669d9",
   "metadata": {},
   "outputs": [],
   "source": [
    "# PairGrid shows pairwise relationship between data elements\n",
    "plot = sns.PairGrid(data= dataframe, vars = [\"column_name\", \"column_name\"])\n",
    "plot.map(sns.scatterplot)\n",
    "# placement control \n",
    "plot = sns.PairGrid(data= dataframe, vars = [\"column_name\", \"column_name\"])\n",
    "plot.map_diag(sns.hist)\n",
    "plot.map_offdiag(sns.scatterplot)"
   ]
  },
  {
   "cell_type": "code",
   "execution_count": null,
   "id": "3972a045-23d8-4062-9f41-ca4d69b0f1ee",
   "metadata": {},
   "outputs": [],
   "source": [
    "# pairplot is a shortcut for the PairGrid\n",
    "sns.pairplot(data= dataframe, vars = [\"column_name\", \"column_name\"], kind = \"box\", diag_kind = \"hist\")"
   ]
  },
  {
   "cell_type": "code",
   "execution_count": null,
   "id": "cdfd1911-12c6-4cd9-b69a-5b9800c546d4",
   "metadata": {},
   "outputs": [],
   "source": [
    "# creating JointGrid() \n",
    "plot = sns.JointGrid(x = \"column_name\", y = \"column_name\", data = dataframe)\n",
    "plot.plot(sns.regplot, sns.histplot)"
   ]
  },
  {
   "cell_type": "code",
   "execution_count": null,
   "id": "515427b9-d0d0-4c08-a91c-7befc9d78db1",
   "metadata": {},
   "outputs": [],
   "source": [
    "# advanced JoinGrid()\n",
    "plot = sns.JoinGrid(data= dataframe, x = \"column_name\", y = \"column_name\")\n",
    "plot.plot_joint(sns.kdeplot) # inner plot \n",
    "plot.plot_marginals(sns.kdeplot, shade = True) # outer plot "
   ]
  },
  {
   "cell_type": "code",
   "execution_count": null,
   "id": "ba8e96db-9c8a-4025-b67f-e45e0a6b6157",
   "metadata": {},
   "outputs": [],
   "source": [
    "# creating jointplot()\n",
    "sns.jointplot(x = \"column_name\", y = \"column_name\", data = dataframe, kind = \"hex\")\n",
    "\n",
    "# advanced plotting\n",
    "plot = sns.jointplot().plot_joint(sns.hist)"
   ]
  },
  {
   "cell_type": "code",
   "execution_count": null,
   "id": "08b7275b-8552-4d25-aecf-cf67aba4fcbc",
   "metadata": {},
   "outputs": [],
   "source": []
  }
 ],
 "metadata": {
  "kernelspec": {
   "display_name": "Python 3 (ipykernel)",
   "language": "python",
   "name": "python3"
  },
  "language_info": {
   "codemirror_mode": {
    "name": "ipython",
    "version": 3
   },
   "file_extension": ".py",
   "mimetype": "text/x-python",
   "name": "python",
   "nbconvert_exporter": "python",
   "pygments_lexer": "ipython3",
   "version": "3.12.4"
  }
 },
 "nbformat": 4,
 "nbformat_minor": 5
}
