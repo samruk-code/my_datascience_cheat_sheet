{
 "cells": [
  {
   "cell_type": "markdown",
   "id": "87ac4f31-83da-4548-a6e8-b959c75d4fed",
   "metadata": {},
   "source": [
    "# Introductions to SQL"
   ]
  },
  {
   "cell_type": "code",
   "execution_count": null,
   "id": "2751fb7b-89ae-4a7a-99f5-b7066011945c",
   "metadata": {},
   "outputs": [],
   "source": [
    "# database is collection of data organzed in tables. table rows are called records, table columns are called fields. \n",
    "# fields (columns) are set at database creation, there is no limit to the number of records.\n",
    "\n",
    "# table column naming best practices such as be in lowercase, have no spaces or use underscores when needed, refer to a collective group, be different.\n",
    "# from other field names, be different from the table name.\n",
    "# records is a row that holds data on an individual observation on contrast a field is a column that holds one piece of imformation about all records.\n",
    "# unique identifiers are used to indentify records in a table name which is callled primary key of the table.\n",
    "# different data types are stored in different columns and take different space.\n",
    "# some operations are work only certain data types. some data types are VARCHAR, INT, NUMERIC.\n",
    "# database schema is way the database is organized such as number of tables, table columns and their data types and relationships, constraints and more."
   ]
  },
  {
   "cell_type": "code",
   "execution_count": null,
   "id": "1adddbd5-41fa-48d6-9b0c-741cbed0c46b",
   "metadata": {},
   "outputs": [],
   "source": [
    "# sql is a programming  language which is used to create databases and query data from databases."
   ]
  },
  {
   "cell_type": "code",
   "execution_count": null,
   "id": "72d5d648-646f-474c-90f3-6c6218ceadc9",
   "metadata": {},
   "outputs": [],
   "source": [
    "SELECT *\n",
    "FROM tables_name; # return all the records from specified table. "
   ]
  },
  {
   "cell_type": "code",
   "execution_count": null,
   "id": "c81eb2e8-f7b1-4a0b-a32a-5ce54e20078c",
   "metadata": {},
   "outputs": [],
   "source": [
    "SELECT column_name, column_name, column_name\n",
    "FROM table_name; # getting the ressult set from specied columns and specified table name"
   ]
  },
  {
   "cell_type": "code",
   "execution_count": null,
   "id": "a057397a-afd5-4dea-9203-9c664c16fcd5",
   "metadata": {},
   "outputs": [],
   "source": [
    "SELECT column_name AS Name # aliased name is only for result set it do not change database actual column_name\n",
    "FROM table_name; "
   ]
  },
  {
   "cell_type": "code",
   "execution_count": null,
   "id": "48af6bd1-14b2-4e11-8d6b-b058bad2b725",
   "metadata": {},
   "outputs": [],
   "source": [
    "SELECT DISTINCT column_name\n",
    "FROM table_name; # getting all the unique data from the specified column "
   ]
  },
  {
   "cell_type": "code",
   "execution_count": null,
   "id": "2641f7f6-5d00-4fc3-8305-011a9766aae8",
   "metadata": {},
   "outputs": [],
   "source": [
    "SELECT column_name\n",
    "FROM table_name\n",
    "LIMIT 5; # limitting the result set to 5"
   ]
  },
  {
   "cell_type": "code",
   "execution_count": null,
   "id": "ecd077b5-cde7-4ab8-b066-925abc05daaa",
   "metadata": {},
   "outputs": [],
   "source": [
    "# a view is a virtual table that is the result of a saved SQL query. views are automatically update in response to updates in the underlying data.\n",
    "CREATE VIEW view_name AS\n",
    "SELECT column_name, column_name, column_name\n",
    "FROM table_name;"
   ]
  },
  {
   "cell_type": "code",
   "execution_count": null,
   "id": "9180ebc6-a72c-4d31-b4e9-a8ae69755bce",
   "metadata": {},
   "outputs": [],
   "source": [
    "# sql has many falovors on it. some of them are free and paid. but differences are small. "
   ]
  },
  {
   "cell_type": "markdown",
   "id": "6a0551f9-4ba7-4311-8f90-338ee08ae5ce",
   "metadata": {},
   "source": [
    "# Intermediate SQL"
   ]
  },
  {
   "cell_type": "code",
   "execution_count": null,
   "id": "0d570826-0d18-497b-9787-74eb5c0112af",
   "metadata": {},
   "outputs": [],
   "source": [
    "# counting the number of records within a field used as alias for clarity\n",
    "SELECT COUNT(column_name_1) AS count_column_name_1, COUNT(column_name_2) AS count_column_name_2\n",
    "FROM table_name;"
   ]
  },
  {
   "cell_type": "code",
   "execution_count": null,
   "id": "6ee6ba0c-5db8-4856-83f0-79e2dc869ff5",
   "metadata": {},
   "outputs": [],
   "source": [
    "# COUNT(column_name) counts values in a field\n",
    "# COUNT(*) counts records in a table\n",
    "SELECT COUNT(*) AS total_records_in_table\n",
    "FROM table_name;"
   ]
  },
  {
   "cell_type": "code",
   "execution_count": null,
   "id": "954ae543-1e4c-41d9-9979-f3bf7dc7fd9c",
   "metadata": {},
   "outputs": [],
   "source": [
    "SELECT COUNT(DISTINCT column_name) AS count_distinct_column_name # COUNT() include duplicates\n",
    "FROM table_name; # counting distinct values in column              DISTINCT excludes duplicates"
   ]
  },
  {
   "cell_type": "code",
   "execution_count": null,
   "id": "c025c805-b136-4c48-b747-c52e269ef23c",
   "metadata": {},
   "outputs": [],
   "source": [
    "# SQL isn't processed in its written order \n",
    "SELECT column_name # order of execution 2 \n",
    "FROM table_name # order of execution 1\n",
    "LIMIT 10; # order of execution 3\n",
    "\n",
    "# common errors are misspelling, incorrect capitalization, incorrect or missing punctuation, comma errors, keyword error "
   ]
  },
  {
   "cell_type": "code",
   "execution_count": null,
   "id": "5d83554f-eb78-49de-998a-9ec57f80e992",
   "metadata": {},
   "outputs": [],
   "source": [
    "# formatting is not required but lack of formatting can cause issues \n",
    "# capitalize keywords, add new lines to when writing new keyword \n",
    "# column name instead of column_name if there is non standard column name \"column name\""
   ]
  },
  {
   "cell_type": "code",
   "execution_count": null,
   "id": "736a8e3c-651a-4792-9952-672979b7b8ea",
   "metadata": {},
   "outputs": [],
   "source": [
    "# benefits of formatting are easier collabortion, clean and readable, looks professional, easier to understand, easier to debug "
   ]
  },
  {
   "cell_type": "code",
   "execution_count": null,
   "id": "ef4a52fd-2f8d-4f68-a408-0dceb30847f4",
   "metadata": {},
   "outputs": [],
   "source": [
    "# filtering works in row level using WHERE cluase \n",
    "# filtering based on string data type \n",
    "SELECT column_name, column_name\n",
    "FROM table_name\n",
    "where column_name = 'string_value'; # use single quote when filter"
   ]
  },
  {
   "cell_type": "code",
   "execution_count": null,
   "id": "3987b2c6-c7d4-4ddd-9d85-2ccb16807f07",
   "metadata": {},
   "outputs": [],
   "source": [
    "# filtering based on numaric data type\n",
    "SELECT column_name, column_name\n",
    "FROM table_name\n",
    "WHERE column_name > 1950; # used comparison operator = <> < <= >="
   ]
  },
  {
   "cell_type": "code",
   "execution_count": null,
   "id": "2cee5c6b-979b-465a-8f4d-d09d9a60f4fb",
   "metadata": {},
   "outputs": [],
   "source": [
    "SELECT column_name # order of execution 3\n",
    "FROM table_name # order of execution 1\n",
    "WHERE condition # order of execution 2\n",
    "LIMIT 5; # order of execution 4\n",
    "\n",
    "# alias used in SELECT clause can not be used in WHERE clause because WHERE Clause execute before the SELECT clause"
   ]
  },
  {
   "cell_type": "code",
   "execution_count": null,
   "id": "c33dce73-2b53-4606-a931-af6d806b00d7",
   "metadata": {},
   "outputs": [],
   "source": [
    "SELECT column_name\n",
    "FROM table_name\n",
    "WHERE condition OR condition;  # OR key word for combining multiple condition, atleast one condition must be true "
   ]
  },
  {
   "cell_type": "code",
   "execution_count": null,
   "id": "6a38dcb2-5ee5-4805-a9da-27313b4fbabf",
   "metadata": {},
   "outputs": [],
   "source": [
    "SELECT column_name\n",
    "FROM table_name\n",
    "WHERE condition AND condition;  # AND key word for combining multiple condition, all the condition must be true "
   ]
  },
  {
   "cell_type": "code",
   "execution_count": null,
   "id": "1fd63e9e-6af1-45da-bfde-183b2e393e44",
   "metadata": {},
   "outputs": [],
   "source": [
    "SELECT column_name\n",
    "FROM table_name\n",
    "WHERE (condition OR condition) AND (condition OR condition);"
   ]
  },
  {
   "cell_type": "code",
   "execution_count": null,
   "id": "d6c25cbe-dbbc-440b-83c0-b1ee45475d19",
   "metadata": {},
   "outputs": [],
   "source": [
    "SELECT column_name\n",
    "FROM table_name\n",
    "WHERE released_year >= 2000 AND released_year <= 2010;"
   ]
  },
  {
   "cell_type": "code",
   "execution_count": null,
   "id": "972004b4-3355-4b26-b63a-11f7fe7a2b77",
   "metadata": {},
   "outputs": [],
   "source": [
    "# above code is same as below \n",
    "SELECT column_name\n",
    "FROM table_name\n",
    "WHERE released_year BETWEEN 2000 AND 2010;"
   ]
  },
  {
   "cell_type": "code",
   "execution_count": null,
   "id": "dc4fd0c1-603b-48b6-8b7f-bb3ddf9ed4c2",
   "metadata": {},
   "outputs": [],
   "source": [
    "# filtering  text data using pattern \n",
    "# % zero, one, or many characters \n",
    "SELECT column_name\n",
    "FROM table_name \n",
    "WHERE column_name LIKE 'SAM%';"
   ]
  },
  {
   "cell_type": "code",
   "execution_count": null,
   "id": "18da4a0a-3603-427a-a502-3f3235dc8245",
   "metadata": {},
   "outputs": [],
   "source": [
    "# filtering  text data using pattern \n",
    "# % zero, one, or many characters \n",
    "SELECT column_name\n",
    "FROM table_name \n",
    "WHERE column_name LIKE 'SAM%';"
   ]
  },
  {
   "cell_type": "code",
   "execution_count": null,
   "id": "e9315fd1-10ff-47b0-aab0-7760d83ff38f",
   "metadata": {},
   "outputs": [],
   "source": [
    "# opposite of the above SQL statement \n",
    "SELECT column_name\n",
    "FROM table_name \n",
    "WHERE column_name NOT LIKE 'SAM%';"
   ]
  },
  {
   "cell_type": "code",
   "execution_count": null,
   "id": "c4ffe6c7-1b6a-4d8d-b2f4-d7889580d1f4",
   "metadata": {},
   "outputs": [],
   "source": [
    "# filtering  text data using pattern \n",
    "# _ match a single character \n",
    "SELECT column_name\n",
    "FROM table_name \n",
    "WHERE column_name LIKE 'SA_'; "
   ]
  },
  {
   "cell_type": "code",
   "execution_count": null,
   "id": "1aa7fab0-d6cf-4dfe-9962-6f7f6f4fc985",
   "metadata": {},
   "outputs": [],
   "source": [
    "# IN operator for filtering on multiple values\n",
    "SELECT column_name\n",
    "FROM table_name\n",
    "WHERE release_year IN (2020, 2021, 2022);"
   ]
  },
  {
   "cell_type": "code",
   "execution_count": null,
   "id": "2e2d01cb-67cf-4620-9774-47fb31d54e2a",
   "metadata": {},
   "outputs": [],
   "source": [
    "# IN operator for filtering on multiple values\n",
    "SELECT column_name\n",
    "FROM table_name\n",
    "WHERE country IN ('India', 'Sri Lanka', 'Nepal');"
   ]
  },
  {
   "cell_type": "code",
   "execution_count": null,
   "id": "92b51e1e-9cd1-445f-bcfe-8cd80883cb8c",
   "metadata": {},
   "outputs": [],
   "source": [
    "# COUNT(*) include missing values\n",
    "# COUNT(column_name) # include only non missing values"
   ]
  },
  {
   "cell_type": "code",
   "execution_count": null,
   "id": "53498675-4bb9-47a4-9f6b-aee6ff42d6a9",
   "metadata": {},
   "outputs": [],
   "source": [
    "# filtering based on null values\n",
    "SELECT column_name\n",
    "FROM table_name\n",
    "WHERE column_name IS NULL; # return only null values"
   ]
  },
  {
   "cell_type": "code",
   "execution_count": null,
   "id": "84bdfd8e-b5b8-4a5e-8c43-83802ee1a503",
   "metadata": {},
   "outputs": [],
   "source": [
    "# filtering based on null values\n",
    "SELECT column_name\n",
    "FROM table_name\n",
    "WHERE column_name IS NOT NULL; # return only null values"
   ]
  },
  {
   "cell_type": "code",
   "execution_count": null,
   "id": "274c4bd9-700d-48e3-a5db-408253cf1a36",
   "metadata": {},
   "outputs": [],
   "source": [
    "# SQL aggregation function return a single value \n",
    "# numarical Fields only AVG(), SUM()\n",
    "# various data types COUNT(), MIN(), MAX()"
   ]
  },
  {
   "cell_type": "code",
   "execution_count": null,
   "id": "caf3bd6e-6453-4034-8f3b-b9bb93aeb87f",
   "metadata": {},
   "outputs": [],
   "source": [
    "SELECT # AVG(column_name) SUM(column_name) COUNT(column_name) MIN(column_name) MAX(column_name)\n",
    "FROM table_name\n",
    "WHERE condition; "
   ]
  },
  {
   "cell_type": "code",
   "execution_count": null,
   "id": "56767619-325d-43e9-8e88-3ee1f8a4c055",
   "metadata": {},
   "outputs": [],
   "source": [
    "# ROUND() numaric columns only \n",
    "SELECT ROUND(AVG(column_name),1) AS round_avg_column # ROUND(numerical value to round, number of decimal places) it also accept negative decimal number\n",
    "FROM table_name \n",
    "WHERE condition; "
   ]
  },
  {
   "cell_type": "code",
   "execution_count": null,
   "id": "d6e26184-e519-4e68-b38c-98e6a5461a83",
   "metadata": {},
   "outputs": [],
   "source": [
    "SELECT (3+5)\n",
    "SELECT (5.0-3.0) # use float number to return with decimal places otherwise only return integer value \n",
    "SELECT (3*5)\n",
    "SELECT (6/2)"
   ]
  },
  {
   "cell_type": "code",
   "execution_count": null,
   "id": "9e8bd428-9989-46e8-83d7-b372ee4dff83",
   "metadata": {},
   "outputs": [],
   "source": [
    "# aggregation function work on column lavel, arithmatic works on row level\n",
    "SELECT (column_name + column_name) AS derived_column\n",
    "FROM table_name;"
   ]
  },
  {
   "cell_type": "code",
   "execution_count": null,
   "id": "a0f2ad64-c323-484b-a952-bbf6366d26ef",
   "metadata": {},
   "outputs": [],
   "source": [
    "# order the result set by specified column \n",
    "SELECT column_name\n",
    "FROM table_name\n",
    "ORDER BY column_name; # ASC for ascending, DESC for descending, defult is acsending order "
   ]
  },
  {
   "cell_type": "code",
   "execution_count": null,
   "id": "cdf26dfc-85ec-49e2-9e6b-609aedd54afe",
   "metadata": {},
   "outputs": [],
   "source": [
    "SELECT column_name\n",
    "FROM table_name\n",
    "ORDER BY column_name ASC, column_name DESC;"
   ]
  },
  {
   "cell_type": "code",
   "execution_count": null,
   "id": "5c5e95b0-fdae-48a5-9569-713dc5b82b71",
   "metadata": {},
   "outputs": [],
   "source": [
    "SELECT column_name # order of execution 3\n",
    "FROM table_name    # order of execution 1\n",
    "WHERE condition    # order of execution 2\n",
    "ORDER BY column_name # order of execution 4\n",
    "LIMIT 5; # order of execution 5"
   ]
  },
  {
   "cell_type": "code",
   "execution_count": null,
   "id": "69d11466-d343-4a8b-ba53-59d61d62fbb0",
   "metadata": {},
   "outputs": [],
   "source": [
    "# grouping data based on columns \n",
    "SELECT column_name\n",
    "FROM table_name \n",
    "GROUP BY column_name; # the only column we do not put in GROUP BY coluse is aggragation column "
   ]
  },
  {
   "cell_type": "code",
   "execution_count": null,
   "id": "5f0e11be-e57a-4775-b53d-012bda9c81dd",
   "metadata": {},
   "outputs": [],
   "source": [
    "SELECT column_name # order of execution 3\n",
    "FROM table_name # order of execution 1\n",
    "GROUP BY column_name # order of execution 2\n",
    "ORDER BY column_name # order of execution 4\n",
    "LIMIT 5; # order of execution 5"
   ]
  },
  {
   "cell_type": "code",
   "execution_count": null,
   "id": "8255b0cf-4eb2-44f9-bdbe-cd705b9943d7",
   "metadata": {},
   "outputs": [],
   "source": [
    "# WHERE filter individual records, HAVING filters grouped records"
   ]
  },
  {
   "cell_type": "code",
   "execution_count": null,
   "id": "86766224-03c8-4ea1-ae66-6ad4271c1536",
   "metadata": {},
   "outputs": [],
   "source": [
    "SELECT column_name # order of execution 5\n",
    "FROM table_name # order of execution 1 \n",
    "WHERE condition # order of execution 2\n",
    "GROUP BY column_name # order of execution 3 \n",
    "HAVING condition # order of execution 4\n",
    "ORDER BY column_name # order of execution 6\n",
    "LIMIT 5; # order of execution 7"
   ]
  },
  {
   "cell_type": "markdown",
   "id": "1577f8a7-0118-44cb-882a-649f36edbdc1",
   "metadata": {},
   "source": [
    "# joining data in SQL "
   ]
  },
  {
   "cell_type": "code",
   "execution_count": null,
   "id": "44a32a58-521a-4f20-943f-437399c98bf1",
   "metadata": {},
   "outputs": [],
   "source": [
    "# when it comes to inner join, it look for unique records in both table\n",
    "# table_name.column_name used to avoid error that is resulted when joining tables columns names are same.\n",
    "SELECT table_name.column_name, table_name.column_name, table_name.column_name\n",
    "FROM table_name \n",
    "INNER JOIN table_name\n",
    "ON table_name_id = table_name_id;"
   ]
  },
  {
   "cell_type": "code",
   "execution_count": null,
   "id": "8f8c624c-aeaf-46b3-a347-0d117372f283",
   "metadata": {},
   "outputs": [],
   "source": [
    "# aliasing tables\n",
    "SELECT t1.column_name, t2.column_name\n",
    "FROM table_name AS t1\n",
    "INNER JOIN table_name AS t2 \n",
    "ON t1.id = t2.id;"
   ]
  },
  {
   "cell_type": "code",
   "execution_count": null,
   "id": "83a87e5d-1e58-4ca8-b730-51fc2e7b7311",
   "metadata": {},
   "outputs": [],
   "source": [
    "SELECT t1.column_name, t2.column_name\n",
    "FROM table_name AS t1\n",
    "INNER JOIN table_name AS t2 \n",
    "USING(id); # we use the using to when joining tables are have the same column_name"
   ]
  },
  {
   "cell_type": "code",
   "execution_count": null,
   "id": "03440863-ff08-42eb-b0cf-a6db9739d970",
   "metadata": {},
   "outputs": [],
   "source": [
    "SELECT t1.column_name, t2.column_name, t3.column_name\n",
    "FROM table_name AS t1\n",
    "INNER JOIN table_name AS t2\n",
    "HAVING(id)\n",
    "INNER JOIN table_name AS t3 \n",
    "HAVING(id);"
   ]
  },
  {
   "cell_type": "code",
   "execution_count": null,
   "id": "64331462-b2ab-4d7d-a970-664600fe0982",
   "metadata": {},
   "outputs": [],
   "source": [
    "SELECT t1.column_name, t2.column_name, t3.column_name\n",
    "FROM table_name AS t1\n",
    "INNER JOIN table_name AS t2\n",
    "ON t1.id = t2.id\n",
    "INNER JOIN table_name AS t3 \n",
    "ON t2.id = t3.id;"
   ]
  },
  {
   "cell_type": "code",
   "execution_count": null,
   "id": "d879ffc0-5276-4e64-baec-e2dc346669d8",
   "metadata": {},
   "outputs": [],
   "source": [
    "SELECT t1.column_name, t2.column_name\n",
    "FROM table_name AS t1\n",
    "INNER JOIN table_name AS t2\n",
    "ON t1.id = t2.id AND t1.column_name = t2.column_name; # joining tables with multiple columns "
   ]
  },
  {
   "cell_type": "code",
   "execution_count": null,
   "id": "90e5c0b0-4d9b-4233-837c-cf1e1b5ceaaa",
   "metadata": {},
   "outputs": [],
   "source": [
    "# LEFT JOIN return all the records in the left table and those records in the right tables that match on the joiing column provided\n",
    "SELECT t1.column_name, t2.column_name\n",
    "FROM table_name AS t1\n",
    "LEFT JOIN table_name AS t2 # can be written LEFT OUTER JOIN\n",
    "HAVING (id);"
   ]
  },
  {
   "cell_type": "code",
   "execution_count": null,
   "id": "fc724e3e-06b8-4c53-8fd6-277ca340c510",
   "metadata": {},
   "outputs": [],
   "source": [
    "# RIGHT JOIN return all the records in the right table and those records in the left tables that match on the joiing column provided\n",
    "SELECT t1.column_name, t2.column_name\n",
    "FROM table_name AS t1\n",
    "RIGHT JOIN table_name AS t2 # can be written RIGHT OUTER JOIN\n",
    "HAVING (id); # we can use left join as a right join by just flipping the table order"
   ]
  },
  {
   "cell_type": "code",
   "execution_count": null,
   "id": "f0943b33-6a48-49be-8039-00cafc1a3b66",
   "metadata": {},
   "outputs": [],
   "source": [
    "# FULL JOIN combine LEFT and RIGHT JOIN\n",
    "SELECT t1.column_name, t2.column_name\n",
    "FROM table_name AS t1\n",
    "FULL JOIN table_name AS t2 # can be written FULL OUTER JOIN \n",
    "HAVING (id);"
   ]
  },
  {
   "cell_type": "code",
   "execution_count": null,
   "id": "2a9ee2e3-7522-4229-b075-15db01f836e0",
   "metadata": {},
   "outputs": [],
   "source": [
    "# CROSS JOIN create all possible combination of two tables\n",
    "SELECT t1.column_name, t2.column_name\n",
    "FROM table_name AS t1\n",
    "CROSS JOIN table_name AS t2;"
   ]
  },
  {
   "cell_type": "code",
   "execution_count": null,
   "id": "28b26103-394f-49bc-b2f6-b9c8a60f58ba",
   "metadata": {},
   "outputs": [],
   "source": [
    "# SELF JOIN are tables join themselves, it can be used to compare parts of the table\n",
    "SELECT t1.column_name, t2.column_name\n",
    "FROM table_name AS t1\n",
    "INNER JOIN table_name AS t2 # we joining the same table \n",
    "ON t1.id = t2.id AND t1.column_name <> t2.column_name;"
   ]
  },
  {
   "cell_type": "code",
   "execution_count": null,
   "id": "3d9883c7-8ad7-4994-a3b6-d72602e98512",
   "metadata": {},
   "outputs": [],
   "source": [
    "# UNION takes two tables an input, and return all records from both tables, UNION ALL includes duplicates\n",
    "SELECT *\n",
    "FROM table_name \n",
    "UNION \n",
    "SELECT * \n",
    "FROM table_name;\n",
    "\n",
    "SELECT *\n",
    "FROM table_name \n",
    "UNION ALL\n",
    "SELECT * \n",
    "FROM table_name;"
   ]
  },
  {
   "cell_type": "code",
   "execution_count": null,
   "id": "fe541698-b725-40b7-a90b-1498782b2402",
   "metadata": {},
   "outputs": [],
   "source": [
    "# INTERSECT only return values in both table, no duplicates, it is like INNER JOIN which never exclude duplicates\n",
    "SELECT *\n",
    "FROM table_name\n",
    "INTERSECT\n",
    "SELECT *\n",
    "FROM table_name;"
   ]
  },
  {
   "cell_type": "code",
   "execution_count": null,
   "id": "b998e823-504f-4349-bb06-40d4e62ba565",
   "metadata": {},
   "outputs": [],
   "source": [
    "# EXCEPT allows us to identify the records that are present in one table, but not the other. \n",
    "SELECT *\n",
    "FROM table_name\n",
    "EXCEPT\n",
    "SELECT *\n",
    "FROM table_name;"
   ]
  },
  {
   "cell_type": "code",
   "execution_count": null,
   "id": "205c27fd-1e17-48dd-a77b-d5b2c53afe5c",
   "metadata": {},
   "outputs": [],
   "source": [
    "# semi join chooses records in the first table where a condition is met in the second table \n",
    "# semi join (subqueries)\n",
    "# subquery in WHERE cluase \n",
    "SELECT column_name, column_name, column_name\n",
    "FROM table_name\n",
    "WHERE column_name IN (\n",
    "    SELECT column_name\n",
    "    FROM table_name\n",
    "    WHERE condition\n",
    ");\n",
    "\n",
    "# anti join \n",
    "SELECT column_name, column_name, column_name\n",
    "FROM table_name\n",
    "WHERE column_name NOT IN (\n",
    "    SELECT column_name\n",
    "    FROM table_name\n",
    "    WHERE condition\n",
    ");\n",
    "\n",
    "# subquery table can be same table or another table "
   ]
  },
  {
   "cell_type": "code",
   "execution_count": null,
   "id": "4517cd85-f251-44a5-824a-96e1d90f2eaa",
   "metadata": {},
   "outputs": [],
   "source": [
    "# subquery in SELECT clause \n",
    "SELECT DISTINCT column_name, (\n",
    "    SELECT COUNT(*)\n",
    "    FROM table_name\n",
    "    WHERE table_name.column_name = table_name.column_name\n",
    ") AS name\n",
    "FROM table-name;"
   ]
  },
  {
   "cell_type": "code",
   "execution_count": null,
   "id": "e393cb76-05df-4803-ac44-a04bc6d50e1d",
   "metadata": {},
   "outputs": [],
   "source": [
    "#Subqueries inside FROM can help select columns from multiple tables in a single query.\n",
    "# subquery from from clause \n",
    "SELECT DISTINCT table_name.column_name, sub.aliased_name # we use distinct  because it return duplicates\n",
    "FROM table_name, (\n",
    "    SELECT column_name, AGG_FUNCTION(column_name) AS aliased_name\n",
    "    FROM table_name\n",
    "    GROUP BY column_name\n",
    ") AS sub\n",
    "WHERE table_name.column_name = sub.column_name\n",
    "ORDER BY column_name;"
   ]
  },
  {
   "cell_type": "markdown",
   "id": "5288a1d3-2e36-4293-8bf1-624e20a3f113",
   "metadata": {},
   "source": [
    "# Data Manupulaion in SQL"
   ]
  },
  {
   "cell_type": "code",
   "execution_count": null,
   "id": "8c0b54bb-eb95-42c2-9cd4-7a3ee961fec1",
   "metadata": {},
   "outputs": [],
   "source": [
    "# case statement for categorizing data\n",
    "SELECT *\n",
    "FROM table_name\n",
    "CASE WHEN condition THEN category\n",
    "     WHEN condition THEN category\n",
    "     ELSE category END AS column_name"
   ]
  },
  {
   "cell_type": "code",
   "execution_count": null,
   "id": "cf928b32-e3e3-444c-a8ae-4159a837a932",
   "metadata": {},
   "outputs": [],
   "source": [
    "# case statement for categorizing data\n",
    "SELECT *\n",
    "FROM table_name\n",
    "CASE WHEN condition AND condition THEN category\n",
    "     WHEN condition AND condition THEN category\n",
    "     ELSE category END AS column_name # specify correctly else statement\n",
    "WHERE condition "
   ]
  },
  {
   "cell_type": "code",
   "execution_count": null,
   "id": "65200130-cd80-4fcb-ab5e-84e18c1de168",
   "metadata": {},
   "outputs": [],
   "source": [
    "# to avoid  null values in where cluase \n",
    "SELECT *\n",
    "FROM table_name\n",
    "CASE WHEN condition AND condition THEN category\n",
    "     WHEN condition AND condition THEN category\n",
    "     ELSE  category END AS column_name # specify correctly else statement\n",
    "WHERE WHEN condition AND condition THEN category\n",
    "      WHEN condition AND condition THEN category\n",
    "      ELSE category END IS NOT NULL; # only return non null values"
   ]
  },
  {
   "cell_type": "code",
   "execution_count": null,
   "id": "d79fca99-b5cb-4f2d-9431-916a24f2a94f",
   "metadata": {},
   "outputs": [],
   "source": [
    "# to aggregate data by case statemnt \n",
    "SELECT column_name, COUNT(CASE WHEN condition THEN category END) AS name, COUNT(CASE WHEN condition THEN category END) AS name\n",
    "FROM table_name\n",
    "GROUP BY column_name;\n",
    "\n",
    "# when working with numerical functions like sum() summing over given column\n",
    "SELECT column_name, SUM(CASE WHEN condition THEN column_name END) AS sum_name, COUNT(CASE WHEN condition THEN column_name END) AS sum_name\n",
    "FROM table_name\n",
    "GROUP BY column_name;\n",
    "\n",
    "# avg() with round()\n",
    "SELECT column_name, ROUND(AVG(CASE WHEN condition THEN column_name END),2) AS sum_name,\n",
    "       ROUND(AVG(CASE WHEN condition THEN column_name END),2) AS sum_name\n",
    "FROM table_name\n",
    "GROUP BY column_name;"
   ]
  },
  {
   "cell_type": "code",
   "execution_count": null,
   "id": "b7307e56-2c8e-4a4f-a9ac-5d7336c1005c",
   "metadata": {},
   "outputs": [],
   "source": [
    "# subquery  benefits are comparing groups to summarized values, and reshaping data, connect data that can not be joinned\n",
    "\n",
    "# subqueries in where clause, comparing groups to summarized values\n",
    "SELECT *\n",
    "FROM table_name\n",
    "WHERE column_name  > (\n",
    "    SELECT AVG(column_name)\n",
    "    FROM table_name\n",
    ")\n",
    "\n",
    "# subqueries in ehere clause, filtering list of values with IN keyword\n",
    "\n",
    "SELECT *\n",
    "FROM table_name\n",
    "WHERE column_name IN (\n",
    "    SELECT column_name\n",
    "    FROM table_name\n",
    "    WHERE condition \n",
    ")"
   ]
  },
  {
   "cell_type": "code",
   "execution_count": null,
   "id": "c871bf0b-2614-43cc-a928-60c7747c0d6f",
   "metadata": {},
   "outputs": [],
   "source": [
    "# sub queries in FROM clause used for resructure and transform your data \n",
    "# tansforming data from long to wide before selecting\n",
    "# prefiltering data\n",
    "# calculating aggreagtes of aggreagtes\n",
    "# we can create multiple subqueries in one statement must be alias them and join them \n",
    "# can join a subquery to a table in FROM, include a joining columns in both tables!\n",
    "\n",
    "SELECT *\n",
    "FROM (SELECT column_name\n",
    "      FROM table_name\n",
    "      LEFT JOIN table_name\n",
    "      HAVING(id)\n",
    "      WHERE condition \n",
    "      GROUPE BY column_name) AS subquery \n",
    "ORDER BY column_name\n",
    "LIMIT5;"
   ]
  },
  {
   "cell_type": "code",
   "execution_count": null,
   "id": "6842d3d3-7d6b-4350-afb2-fb566177930b",
   "metadata": {},
   "outputs": [],
   "source": [
    "# sub queries in a SELECT statement to being summary values into a detailed data set\n",
    "# returns a single value - include aggregate values to compare to individual values \n",
    "# used in mathematical calculations \n",
    "\n",
    "SELECT column_name, COUNT(column_name) AS aliased_name, (SELECT COUNT(column_name) FROM table_name) AS aliased_name\n",
    "FROM column_name\n",
    "GROUP BY column_name\n",
    "\n",
    "# need to return a single value otherwise error \n",
    "# make sure you have all filters in the right places"
   ]
  },
  {
   "cell_type": "code",
   "execution_count": null,
   "id": "bf19f25a-8cdc-421a-86c6-20998d715a88",
   "metadata": {},
   "outputs": [],
   "source": [
    "# format your queries, line up\n",
    "# use commants as a annotate multiple line commant or in line commant \n",
    "# indent correctly \n",
    "# think about is that subquery necessary?"
   ]
  }
 ],
 "metadata": {
  "kernelspec": {
   "display_name": "Python 3 (ipykernel)",
   "language": "python",
   "name": "python3"
  },
  "language_info": {
   "codemirror_mode": {
    "name": "ipython",
    "version": 3
   },
   "file_extension": ".py",
   "mimetype": "text/x-python",
   "name": "python",
   "nbconvert_exporter": "python",
   "pygments_lexer": "ipython3",
   "version": "3.12.4"
  }
 },
 "nbformat": 4,
 "nbformat_minor": 5
}
