{
 "cells": [
  {
   "cell_type": "markdown",
   "id": "8384dd0b-0e0d-452d-bf48-49f307302f8f",
   "metadata": {},
   "source": [
    "Machine learning operation is the set of practice of design, deploy and maintain machine learning in production continuously, reliably, and efficiently. MLOps use best practices from DevOps. "
   ]
  },
  {
   "cell_type": "markdown",
   "id": "4d32f1f2-638e-47a2-8f4f-721125b877a0",
   "metadata": {},
   "source": [
    "Three different phases of Machine Learning operation. Design, Development, Deployment \n",
    "\n",
    "Design - context of the problem, added value, business requirements, key metrics, data processing.<br>\n",
    "Development - develop machine learning models, experiment with data, algorithms, and hyperparameter, model ready for deployemnt.<br>\n",
    "Deployment - intergrate the machine learning model in business, deploying the model in production, monitoring the performance.<br> "
   ]
  },
  {
   "cell_type": "markdown",
   "id": "fdb12ec2-e388-4925-94ac-4750d1c7f450",
   "metadata": {},
   "source": [
    "Different roles in Machine learning lifecycle. Business Roles and technical roles \n",
    "\n",
    "Business roles - business stakeholder, subject matter expert\n",
    "\n",
    "Technical roles - data scientist, machine learning engineer, data engineer, analyst, software engineers "
   ]
  },
  {
   "cell_type": "markdown",
   "id": "7a41be54-c21c-427f-9f24-903747dc8ccf",
   "metadata": {},
   "source": [
    "In design phase - added value to business - estimate the expected value, ML is experimental and uncertain, Aids in resource allocation, prioritization, and setting expectations.<br>Understanding these requirements are crucial speed, accuracy, transparency, compliance and regulations budget and team size"
   ]
  },
  {
   "cell_type": "markdown",
   "id": "201dd1ea-9292-4af8-99b4-b3d5f2750876",
   "metadata": {},
   "source": [
    "Collecting data is also part of the design phase. data quality is a measure of how well data serves its inteded purpose. data quality evaluated through various dimensions, quality of ML model depends on data. \n",
    "\n",
    "data quality dimensions - Accuracy, Completeness, Consistency, Timeliness. \n"
   ]
  },
  {
   "cell_type": "markdown",
   "id": "f7da8bb2-4c3a-4707-a63d-e0198b8db87c",
   "metadata": {},
   "source": [
    "Feature Engineering is part of the Develoment Phase.\n",
    "Feature Engineering is the process of selecting, manipulating, and transforming raw data into features. goal is to enhance model performance<br>\n",
    "there are tools and techniques help to process, select, and maintain features, feature selection, feature store, data version control. domain-specific knowledge, correlation, feature importances, univariate selection, principal components analysis, recurive feature elimination. "
   ]
  },
  {
   "cell_type": "markdown",
   "id": "085c07a1-2e13-4663-88c4-30c39a7bafd2",
   "metadata": {},
   "source": [
    "Experiment tracking  - machine learning model, model hyperparameters, versions of data, execution scripts, environment configuration. <br>\n",
    "It helps compare results, reproduce past experiments, collaborate with developers and stakeholders. \n",
    "report on results to stakeholders.<br> \n",
    "The experiment process - formulate a hypothesis: 'We expect that ....', Gather images and labels, define experiments, types of models, hyperparameters, datasets, setup experiment tracking, train the machine learning models, test the models on a hold-out test set, register the most suitable model, visualize and report back to team and stakeholders, and determine next step. "
   ]
  },
  {
   "cell_type": "markdown",
   "id": "3afdf1e1-e4c7-42c2-8e67-13c637f802a3",
   "metadata": {},
   "source": [
    "when it comes to deploying machine learning models, using containerization help avoid different runtine problems. "
   ]
  },
  {
   "cell_type": "code",
   "execution_count": null,
   "id": "0acd224f-7c44-4be2-b022-b347d985d107",
   "metadata": {},
   "outputs": [],
   "source": []
  }
 ],
 "metadata": {
  "kernelspec": {
   "display_name": "Python 3 (ipykernel)",
   "language": "python",
   "name": "python3"
  },
  "language_info": {
   "codemirror_mode": {
    "name": "ipython",
    "version": 3
   },
   "file_extension": ".py",
   "mimetype": "text/x-python",
   "name": "python",
   "nbconvert_exporter": "python",
   "pygments_lexer": "ipython3",
   "version": "3.13.5"
  }
 },
 "nbformat": 4,
 "nbformat_minor": 5
}
