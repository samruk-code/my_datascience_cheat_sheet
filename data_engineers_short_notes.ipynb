{
 "cells": [
  {
   "cell_type": "code",
   "execution_count": null,
   "id": "09fdc3c0-3b54-49be-9c2d-7539ccc73163",
   "metadata": {},
   "outputs": [],
   "source": [
    "# data engineer is lay the foundation for data science by make data accessible. job of the data engineer is gather different sources of data, optimize \n",
    "# databases for analyses, remove corrupt data \n",
    "\n",
    "# a engineer that develops, constructs, tests, and maintains, architectutures sucha as databasees and large-scale processing systems \n",
    "# developing scalable data architecture\n",
    "# streamline data acquisition\n",
    "# set up processes to bring toether data \n",
    "# clean corrupt data "
   ]
  },
  {
   "cell_type": "code",
   "execution_count": null,
   "id": "bfa64c9f-84b2-4652-ab17-41cdee3c6e83",
   "metadata": {},
   "outputs": [],
   "source": [
    "# data engineer tool box\n",
    "# database - a database is a computer system that holds large amount of data, sql and nosql databases\n",
    "# processing - clean, aggregate, join \n",
    "# scheduling - plan jobs with specific intervals, resolve dependency problems "
   ]
  },
  {
   "cell_type": "code",
   "execution_count": null,
   "id": "4291733a-9fe3-437d-b72c-43fbc26bc87c",
   "metadata": {},
   "outputs": [],
   "source": [
    "# cloud computing is providing IT resources over internet as pay as you go model."
   ]
  },
  {
   "cell_type": "code",
   "execution_count": null,
   "id": "00b73adb-85d0-4377-9b94-302813f405cd",
   "metadata": {},
   "outputs": [],
   "source": [
    "# data base defined as a usually large collections of data organized especially for rapid search and retrieval, holds data, organized data, search and fine data "
   ]
  },
  {
   "cell_type": "code",
   "execution_count": null,
   "id": "2eb99ece-2e9a-4d6b-aee4-475693974c08",
   "metadata": {},
   "outputs": [],
   "source": [
    "# structured data - adherence to databse schema - relational database\n",
    "# unstructured data - videos, images - no shema \n",
    "# semi structured data - json "
   ]
  },
  {
   "cell_type": "code",
   "execution_count": null,
   "id": "33bd1618-5c15-4062-a1e5-3a04af92f630",
   "metadata": {},
   "outputs": [],
   "source": [
    "# sql = relational databse type\n",
    "# no sql = non-relational database structured or unstructured such as key-value pairs, document DB"
   ]
  },
  {
   "cell_type": "code",
   "execution_count": null,
   "id": "de33d9e2-508c-45e1-be98-d5975fa57fcb",
   "metadata": {},
   "outputs": [],
   "source": [
    "# schema represent structure and relation of the database \n",
    "# the star schema consists of one or more fact tables referencing any number of dimension tables\n",
    "# fact table is things that happened"
   ]
  },
  {
   "cell_type": "code",
   "execution_count": null,
   "id": "d5c5ca4d-2b81-4781-8f11-7054c7956ca4",
   "metadata": {},
   "outputs": [],
   "source": [
    "# pararell computer is a friend of data engineer when it come to processing big data. it helps split the data into small parts and process them\n",
    "# simultaneously but it come up with some cons such as communication over head and performance does not increase linearly "
   ]
  },
  {
   "cell_type": "code",
   "execution_count": null,
   "id": "a30f1a4b-e1aa-4eda-a1f1-9008c582a6e5",
   "metadata": {},
   "outputs": [],
   "source": [
    "# parallel computing frameworks -- hadoop HDFS, hadoop MapReduce\n",
    "# Apache spark - resilient distributed datasets - pypark python interface for spark"
   ]
  },
  {
   "cell_type": "code",
   "execution_count": null,
   "id": "9f59229c-9c1d-46d7-b618-ebceca12291d",
   "metadata": {},
   "outputs": [],
   "source": [
    "# Workflow scheduling frameworks  cron for workflow scheduling \n",
    "# directed acyclic graph for dependency "
   ]
  }
 ],
 "metadata": {
  "kernelspec": {
   "display_name": "Python 3 (ipykernel)",
   "language": "python",
   "name": "python3"
  },
  "language_info": {
   "codemirror_mode": {
    "name": "ipython",
    "version": 3
   },
   "file_extension": ".py",
   "mimetype": "text/x-python",
   "name": "python",
   "nbconvert_exporter": "python",
   "pygments_lexer": "ipython3",
   "version": "3.12.4"
  }
 },
 "nbformat": 4,
 "nbformat_minor": 5
}
