{
 "cells": [
  {
   "cell_type": "markdown",
   "id": "bc218e9d-ed95-4e00-82a2-4980afc69e19",
   "metadata": {},
   "source": [
    "# data manupulation with pandas"
   ]
  },
  {
   "cell_type": "code",
   "execution_count": 3,
   "id": "f2207941-4c47-41db-8132-852e605c6a88",
   "metadata": {},
   "outputs": [],
   "source": [
    "import pandas as pd # importing pandas as pd"
   ]
  },
  {
   "cell_type": "code",
   "execution_count": null,
   "id": "98b68370-32de-4006-9fb4-ce5d9b5c4f29",
   "metadata": {},
   "outputs": [],
   "source": [
    "dataframe.head() # return 5 first rows from dataframe if passed n as a parameter then return n number of first rows from dataframe."
   ]
  },
  {
   "cell_type": "code",
   "execution_count": null,
   "id": "fc4c504d-7797-46f7-92b3-f5f160e232a2",
   "metadata": {},
   "outputs": [],
   "source": [
    "dataframe.tail() # return 5 last rows from dataframe if paseed n as a parameter then return n number of last rows from dataframe."
   ]
  },
  {
   "cell_type": "code",
   "execution_count": null,
   "id": "41122527-4c05-45a1-8140-0870944dcc72",
   "metadata": {},
   "outputs": [],
   "source": [
    "dataframe.info() # return information about dataframe."
   ]
  },
  {
   "cell_type": "code",
   "execution_count": null,
   "id": "98b9c109-973a-4a10-8432-9adadb0eb51b",
   "metadata": {},
   "outputs": [],
   "source": [
    "dataframe.shape # return (number of rows, number of colomn) as a tuple."
   ]
  },
  {
   "cell_type": "code",
   "execution_count": null,
   "id": "e234e38a-ae0b-4380-b0fb-e91a72983b5b",
   "metadata": {},
   "outputs": [],
   "source": [
    "dataframe.describe() # summary statistics about dataframe."
   ]
  },
  {
   "cell_type": "code",
   "execution_count": null,
   "id": "e4d4fdf4-923a-4d5a-b511-e7e752bb0ad3",
   "metadata": {},
   "outputs": [],
   "source": [
    "dataframe.values # return all the rows of datafame."
   ]
  },
  {
   "cell_type": "code",
   "execution_count": null,
   "id": "84acda74-5a11-42d9-87f2-a11d7d1a7940",
   "metadata": {},
   "outputs": [],
   "source": [
    "dataframe.columns # return all the column name in a dataframe."
   ]
  },
  {
   "cell_type": "code",
   "execution_count": null,
   "id": "39c89fe3-f98d-44af-859b-e7107519634f",
   "metadata": {},
   "outputs": [],
   "source": [
    "dataframe.index  # return number of rows in a dataframe."
   ]
  },
  {
   "cell_type": "code",
   "execution_count": null,
   "id": "58ab2fb3-07fb-47a0-95b9-b936c6a862ba",
   "metadata": {},
   "outputs": [],
   "source": [
    "dataframe.sort_values(\"column_name\") # sort dataframe based on column defult is ascending. \n",
    "dataframe.sort_values([\"column_name_1\",\"column_name_2\"], ascending = [True, False]) # pass list of values when passing more than one value."
   ]
  },
  {
   "cell_type": "code",
   "execution_count": null,
   "id": "e96469d1-c047-4f06-a337-65880cf7246f",
   "metadata": {},
   "outputs": [],
   "source": [
    "dataframe[\"column_name\"] # subsetting dataframe based on column"
   ]
  },
  {
   "cell_type": "code",
   "execution_count": null,
   "id": "23e11f58-d062-4d2d-b6ed-55bcb506a046",
   "metadata": {},
   "outputs": [],
   "source": [
    "dataframe[[\"column_name\",\"column_name\"]]# subsetting dataframe based on more than one column.\n",
    "column_to_subset = [\"column_name\",\"column_name\"]\n",
    "dataframe[column_to_subset]"
   ]
  },
  {
   "cell_type": "code",
   "execution_count": null,
   "id": "87e8f125-526d-47ab-a65a-b5391c372560",
   "metadata": {},
   "outputs": [],
   "source": [
    "condition = dataframe[\"column_name\"] > numarical_value # subsetting datafame based on numarical value.\n",
    "dataframe[condition]"
   ]
  },
  {
   "cell_type": "code",
   "execution_count": null,
   "id": "62a4d5ca-f231-46a3-9780-a9c520918d8c",
   "metadata": {},
   "outputs": [],
   "source": [
    "condition = dataframe[\"column_name\"] == \"string\" # subsetting dataframe based on text value.\n",
    "dataframe[condition]"
   ]
  },
  {
   "cell_type": "code",
   "execution_count": null,
   "id": "406fa672-ff19-43f6-8f97-c4616b6c2e3b",
   "metadata": {},
   "outputs": [],
   "source": [
    "condition = dataframe[\"date_column\"] == \"date\" # sebsetting dataframe based on date value.\n",
    "dataframe[condition]"
   ]
  },
  {
   "cell_type": "code",
   "execution_count": null,
   "id": "cf47ef43-71a5-49fb-8b6a-4ba7be07ce8f",
   "metadata": {},
   "outputs": [],
   "source": [
    "condition1 = dataframe[\"column_name\"] == \"string\" # subsetting based on multiple condition\n",
    "condition2 = dataframe[\"date_column\"] == \"date\"\n",
    "dataframe[condition1 & condition2] \n",
    "# subsetting dataframe based on multiple condition warap each condition inside the ()\n",
    "dataframe[(dataframe[\"colum_name\"] == \"string\") & (dataframe[\"column_name\"] == \"string\")] "
   ]
  },
  {
   "cell_type": "code",
   "execution_count": null,
   "id": "d364ea27-dbd2-4a5b-92a9-10d970a4c35e",
   "metadata": {},
   "outputs": [],
   "source": [
    "condition = dataframe[\"column_name\"].isin(\"string\") # using isin method to subset the dataframe\n",
    "condition = dataframe[\"column_name\"].isin([\"string_1\",\"string_2\"])\n",
    "dataframe[condition]"
   ]
  },
  {
   "cell_type": "code",
   "execution_count": null,
   "id": "f9109a1d-e6a2-4344-bfaf-b3648b33fc3b",
   "metadata": {},
   "outputs": [],
   "source": [
    "dataframe[\"column_name\"] = dataframe[\"column_name\"] / 100 # creating column based on existing column "
   ]
  },
  {
   "cell_type": "code",
   "execution_count": null,
   "id": "9bcb0c28-58ad-466a-b259-b35625d0e027",
   "metadata": {},
   "outputs": [],
   "source": [
    "dataframe[\"column_name\"].mean() # mean of the column"
   ]
  },
  {
   "cell_type": "code",
   "execution_count": null,
   "id": "2caae342-b545-4449-813d-e84b90b781e0",
   "metadata": {},
   "outputs": [],
   "source": [
    "dataframe[\"column_name\"].mode() # mode of the column"
   ]
  },
  {
   "cell_type": "code",
   "execution_count": null,
   "id": "40924e11-38ce-4d53-935b-1506151497d1",
   "metadata": {},
   "outputs": [],
   "source": [
    "dataframe[\"column_name\"].median() # median of the column"
   ]
  },
  {
   "cell_type": "code",
   "execution_count": null,
   "id": "bed7746d-7b35-4409-8588-93cecfa7aef3",
   "metadata": {},
   "outputs": [],
   "source": [
    "dataframe[\"column_name\"].min() # min of the column"
   ]
  },
  {
   "cell_type": "code",
   "execution_count": null,
   "id": "6ecc2e00-58e9-4f0f-8859-25709583bd17",
   "metadata": {},
   "outputs": [],
   "source": [
    "dataframe[\"column_name\"].max() # max of the column"
   ]
  },
  {
   "cell_type": "code",
   "execution_count": null,
   "id": "dbf66064-0267-48b6-8f3b-0d36479ea953",
   "metadata": {},
   "outputs": [],
   "source": [
    "dataframe[\"column_name\"].var() # var of the column"
   ]
  },
  {
   "cell_type": "code",
   "execution_count": null,
   "id": "c0528d4a-c45f-416d-bc46-ef68c4013a9d",
   "metadata": {},
   "outputs": [],
   "source": [
    "dataframe[\"column_name\"].std() # std of the column"
   ]
  },
  {
   "cell_type": "code",
   "execution_count": null,
   "id": "ed9af659-0d4d-44ea-bfa0-782c1cdb0caa",
   "metadata": {},
   "outputs": [],
   "source": [
    "dataframe[\"column_name\"].quantile() # quantile of the column"
   ]
  },
  {
   "cell_type": "code",
   "execution_count": null,
   "id": "05ef5375-d420-4968-b406-27e8ba10d68c",
   "metadata": {},
   "outputs": [],
   "source": [
    "dataframe[\"column_name\"].sum() # sum of the column"
   ]
  },
  {
   "cell_type": "code",
   "execution_count": null,
   "id": "3b57e242-752a-4d64-a335-8730f092241d",
   "metadata": {},
   "outputs": [],
   "source": [
    "dataframe[\"column_name\"].agg(function) # agg method take the function apply it to the respecive data and return the result\n",
    "dataframe[\"column_name\"].agg([function,function])"
   ]
  },
  {
   "cell_type": "code",
   "execution_count": null,
   "id": "9c1b914e-dc77-48c2-865c-600e4cf3410f",
   "metadata": {},
   "outputs": [],
   "source": [
    "dataframe[\"column_name\"].cumsum() # return a column that is aggregation of values of that column "
   ]
  },
  {
   "cell_type": "code",
   "execution_count": null,
   "id": "31de08a4-5bb9-4dcf-90c6-6ba2a19131e6",
   "metadata": {},
   "outputs": [],
   "source": [
    "dataframe[\"column_name\"].cummin() # return a column that is min of that column "
   ]
  },
  {
   "cell_type": "code",
   "execution_count": null,
   "id": "d429e6bb-73f0-453c-a252-7371ceff5787",
   "metadata": {},
   "outputs": [],
   "source": [
    "dataframe[\"column_name\"].cummax() # return a column that is max of that column "
   ]
  },
  {
   "cell_type": "code",
   "execution_count": null,
   "id": "fbed3e7e-424a-4a79-8d21-17fba2d9917e",
   "metadata": {},
   "outputs": [],
   "source": [
    "dataframe[\"column_name\"].cumprod() # return a column that is product of values of that column "
   ]
  },
  {
   "cell_type": "code",
   "execution_count": null,
   "id": "18e2e041-92c3-43de-a941-6c221a61a55d",
   "metadata": {},
   "outputs": [],
   "source": [
    "dataframe.drop_duplicates(subset=\"column_name\") # drop duplicates values based on given column \n",
    "dataframe.drop_duplicates(subset=[\"column_name_1\",\"column_name_2\"])"
   ]
  },
  {
   "cell_type": "code",
   "execution_count": null,
   "id": "3b971949-34f0-47d3-8f24-2dd7bacbe06b",
   "metadata": {},
   "outputs": [],
   "source": [
    "dataframe[\"column_name\"].unique() # return unique values"
   ]
  },
  {
   "cell_type": "code",
   "execution_count": null,
   "id": "7389ec1c-f9d4-4504-bd16-118f8e624a21",
   "metadata": {},
   "outputs": [],
   "source": [
    "dataframe[\"column_name\"].value_counts() # count the number of values\n",
    "dataframe[\"column_name\"].value_counts(sort=True) # count the number of values and sort the results\n",
    "dataframe[\"column_name\"].value_counts(normalize=True) # count the number of values and normalize the result "
   ]
  },
  {
   "cell_type": "code",
   "execution_count": null,
   "id": "ff285860-a8de-4d21-97c4-9f012aa339c4",
   "metadata": {},
   "outputs": [],
   "source": [
    "dataframe.groupby(\"colum_name\")[\"column_name\"].mean() # group by based on given column then subset the result then find the summary statistics\n",
    "dataframe.groupby(\"colum_name\")[\"column_name\"].agg([\"min\",\"max\",\"sum\"]) # use this method to apply more than one function\n",
    "groupby([\"column_name\",\"column_name\"])[\"column_name\"].agg([\"min\",\"max\",\"sum\"])\n",
    "groupby([\"column_name\",\"column_name\"])[[\"column_name\",\"column_name\"]].agg([\"min\",\"max\",\"sum\"])"
   ]
  },
  {
   "cell_type": "code",
   "execution_count": null,
   "id": "414fa679-39c9-4128-9376-d387e0d09b5d",
   "metadata": {},
   "outputs": [],
   "source": [
    "dataframe.pivot_table(values = \"column_name\", index = \"column_name\", aggfunc = function) # creating pivot table and applying aggigation function \n",
    "dataframe.pivot_table(values = \"column_name\" # value we are looking for\n",
    "                      , index = \"column_name\" # row index of the table\n",
    "                      , columns = \"column_name\" # column of the table\n",
    "                      , aggfunc = [function, function] # function\n",
    "                      , fil_value = 0 # fill the value when there is no  value\n",
    "                      , margins = True # all column that sum all values)\n",
    "dataframe.pivot_table().mean(axis = \"index\") # summary statistics across row \n",
    "dataframe.pivot_table().mean(axis = \"columns\") # summary statistics across column                   "
   ]
  },
  {
   "cell_type": "code",
   "execution_count": null,
   "id": "58540447-bdd9-49a2-a6b7-066c36c796b9",
   "metadata": {},
   "outputs": [],
   "source": [
    "dataframe.set_index([\"column_name\",\"column_name\"]) # setting the index by column "
   ]
  },
  {
   "cell_type": "code",
   "execution_count": null,
   "id": "5f04de9f-f716-49f5-be3e-e45bd791d00f",
   "metadata": {},
   "outputs": [],
   "source": [
    "dataframe.reset_index() # remove column indexing"
   ]
  },
  {
   "cell_type": "code",
   "execution_count": null,
   "id": "8f464f6d-d980-4cc1-b59b-af4b9257aac7",
   "metadata": {},
   "outputs": [],
   "source": [
    "dataframe.reset_index(drop = True) # completely remove indexed column"
   ]
  },
  {
   "cell_type": "code",
   "execution_count": null,
   "id": "b9241308-a646-4aa1-80c8-0ef25237e092",
   "metadata": {},
   "outputs": [],
   "source": [
    "dataframe.loc[\"string\"] # selecting row by in a dataframe which is indexed by text data type column\n",
    "dataframe.loc[[\"string\",\"string\"]] # same as previous one buy indexed by two text data type columns\n",
    "dataframe.loc[[(\"column_1\",\"column_2\"),(\"column_1\",\"column_2\")]] # subsetting data two indexed columns"
   ]
  },
  {
   "cell_type": "code",
   "execution_count": null,
   "id": "c4a62d0b-02b6-455c-958d-b46fba4db3c7",
   "metadata": {},
   "outputs": [],
   "source": [
    "dataframe.sort_index() # sorting index\n",
    "dataframe.sort_index(level = [\"column_1\",\"column_2\"], ascending = [True, False])"
   ]
  },
  {
   "cell_type": "code",
   "execution_count": null,
   "id": "cacba58c-2972-4843-9049-5fcf4e36a613",
   "metadata": {},
   "outputs": [],
   "source": [
    "list[start:stop:step] # scilicing the list "
   ]
  },
  {
   "cell_type": "code",
   "execution_count": null,
   "id": "0bbf9ca2-ef26-4f12-aa5e-2cbe7760e944",
   "metadata": {},
   "outputs": [],
   "source": [
    "dataframe.loc[\"indexed_row\":\"indexed_row\"] # subsetting outer level final value included\n",
    "dataframe.loc[(\"column_1\",\"column_2\"),(\"column_1\",\"column_2\")] # subsetting two text column indexed dataframe\n",
    "dataframe.loc[:,\"column_name\": \"column_name\"] # subsetting the dataframe by column_name all the rows included\n",
    "dataframe.loc[(\"column_1\",\"column_2\"):(\"column_1\",\"column_2\"),\"column_name\": \"column_name\"]\n",
    "dataframe.loc[\"date_data\":\"date_data\"] subsetting based on date indexed column "
   ]
  },
  {
   "cell_type": "code",
   "execution_count": null,
   "id": "0ccb49ba-37e4-4f7f-8e27-6e7fc8d28ee2",
   "metadata": {},
   "outputs": [],
   "source": [
    "dataframe.iloc[:,:] # subsetting dataframe based on numeric index"
   ]
  },
  {
   "cell_type": "code",
   "execution_count": null,
   "id": "3cf5b371-0dc1-44d2-ac85-db0722e8969e",
   "metadata": {},
   "outputs": [],
   "source": [
    "dataframe.isna() # return true if there is a null value"
   ]
  },
  {
   "cell_type": "code",
   "execution_count": null,
   "id": "c079e334-f34d-4d52-b105-93e74902a6a3",
   "metadata": {},
   "outputs": [],
   "source": [
    "dataframe.dropna() # dropping the na value rows "
   ]
  },
  {
   "cell_type": "code",
   "execution_count": null,
   "id": "7ca81f2c-3321-45ff-8d7e-9449b2672246",
   "metadata": {},
   "outputs": [],
   "source": [
    "dataframe.fillna(0) # filling the given value if there is a na value"
   ]
  },
  {
   "cell_type": "code",
   "execution_count": null,
   "id": "fdc2c02b-324e-42ae-9d91-8add57df3bd6",
   "metadata": {},
   "outputs": [],
   "source": [
    "dataframe.isna().any() # return true if there is a null value, if there is at least one true value any method return a true boolean value"
   ]
  },
  {
   "cell_type": "code",
   "execution_count": null,
   "id": "8181f897-c750-434b-a538-cc8cd0e3cdc8",
   "metadata": {},
   "outputs": [],
   "source": [
    "dataframe[\"column_name\"].hist(bins = 5, alpha = 0.7) # creating a histogramme, bin argument is number of argument, alpha is transparancy \n",
    "plt.show() # show the plot "
   ]
  },
  {
   "cell_type": "code",
   "execution_count": null,
   "id": "d612633f-e5d3-45f3-b8b8-ffabbcb1492d",
   "metadata": {},
   "outputs": [],
   "source": [
    "dataframe[\"column_name\"].plot(kind = \"bar\", title = \"title_of_the_bar_plot\") # creating a bar plt "
   ]
  },
  {
   "cell_type": "code",
   "execution_count": null,
   "id": "7fb67103-b565-4385-814a-284a518b2f04",
   "metadata": {},
   "outputs": [],
   "source": [
    "dataframe.plot(x = \"column_name\", y = \"column_name\", kind = \"line\", rot = 45 ) # creating a line plot rot argument for rotating the xlabel "
   ]
  },
  {
   "cell_type": "code",
   "execution_count": null,
   "id": "d841203d-8c91-4865-9e1e-485d9870bc17",
   "metadata": {},
   "outputs": [],
   "source": [
    "dataframe.plot(x = \"column_name\", y = \"column_name\", kind = \"scatter\") # creating a scatter plot"
   ]
  },
  {
   "cell_type": "code",
   "execution_count": 15,
   "id": "a12e15b1-c9ed-406a-b9ca-1f566bdd6261",
   "metadata": {},
   "outputs": [],
   "source": [
    "# creating a dictionary row by row\n",
    "list_of_dicts = [\n",
    "   {\"name\" : \"value_1\", \"key_2\" : \"value_2\", \"keys_3\" : \"value_3\"},\n",
    "   {\"name\" : \"value_1_1\", \"key_2\" : \"value_2_2\", \"keys_3\" : \"value_3_3\"}\n",
    "]\n",
    "dataframe = pd.DataFrame(list_of_dicts)"
   ]
  },
  {
   "cell_type": "code",
   "execution_count": 13,
   "id": "bf2807f8-d7c0-490b-bf96-dbd5b029bb4a",
   "metadata": {},
   "outputs": [],
   "source": [
    "# creating a dictionary by column by column \n",
    "dict_of_lists = {\n",
    "    \"key_1\" : [\"value_1\", \"value_2\", \"value_3\"],\n",
    "    \"key_2\" : [\"value_1_1\", \"value_2_2\", \"value_3_3\"]\n",
    "}\n",
    "dataframe = pd.DataFrame(dict_of_lists)"
   ]
  },
  {
   "cell_type": "code",
   "execution_count": null,
   "id": "a4224133-86d7-46ad-8753-fc015c4e66e9",
   "metadata": {},
   "outputs": [],
   "source": [
    "dataframe = pd.read_csv(\"file_name\") # reading the data\n",
    "dataframe.to_csv(\"file_name\") # outputting data as a csv file"
   ]
  },
  {
   "cell_type": "markdown",
   "id": "d12b6ad5-6ae8-4ef6-a8ae-56b170be9c13",
   "metadata": {},
   "source": [
    "# Reshaping Data with Pandas"
   ]
  },
  {
   "cell_type": "code",
   "execution_count": null,
   "id": "1abaf474-ce81-4db9-958e-34de37f01429",
   "metadata": {},
   "outputs": [],
   "source": [
    "dataframe.transpose() # transposing the dataframe column become row and vice versa "
   ]
  },
  {
   "cell_type": "code",
   "execution_count": null,
   "id": "62e8d851-3ecd-4ada-bb0a-e18aad60255b",
   "metadata": {},
   "outputs": [],
   "source": [
    "# long to wide\n",
    "dataframe.pivot(index = \"column_name\", # row index\n",
    "               columns = \"column_name\", # column name of the resulted dataframe\n",
    "               values = \"column_name\") # row values"
   ]
  },
  {
   "cell_type": "code",
   "execution_count": null,
   "id": "5bdfab48-f98b-4641-860b-1436201e64f7",
   "metadata": {},
   "outputs": [],
   "source": [
    "# dropping column or row\n",
    "datafame.drop(index = 2, axis = 0, inplace = true) # index of the row or column axis is across row or column, inplace argument change the dataframe"
   ]
  },
  {
   "cell_type": "code",
   "execution_count": null,
   "id": "28694e6e-9ff1-4d54-9c6e-0b2ac778f1e4",
   "metadata": {},
   "outputs": [],
   "source": [
    "# by this function we can aggregate data\n",
    "# if wan to pass multiple column_name pass it as a list of string values\n",
    "dataframe.pivot_table(index = \"column_name\", columns = \"column_name\", values = \"column_name\" aggfunc = \"mean\", margins = True) # aggregation function "
   ]
  },
  {
   "cell_type": "code",
   "execution_count": null,
   "id": "425971e2-5cff-4b89-b551-6913ffd1caed",
   "metadata": {},
   "outputs": [],
   "source": [
    "# wide to long \n",
    "dataframe.melt(id_vars = [\"column_name\",\"column_name\"], # index column\n",
    "               value_var = [\"column_name\",\"column_name\"], # long format dataframe variables\n",
    "               var_name = \"variables\", # variable column name\n",
    "               value_name = \"value\") # value column name"
   ]
  },
  {
   "cell_type": "code",
   "execution_count": null,
   "id": "53694aac-1f8c-4bf8-a33f-827662c86534",
   "metadata": {},
   "outputs": [],
   "source": [
    "# wide to long \n",
    "pd.wide_to_long(data = dataframe, # data  \n",
    "               stubnames = [\"column_name\",\"column_name\"], # column \n",
    "               i = \"column_name\", # row index\n",
    "               j = \"column_name\", # row index from value column\n",
    "               sep = \"_\", # separator\n",
    "               suffix = \"\\W+\") # if the seperating column is text"
   ]
  },
  {
   "cell_type": "code",
   "execution_count": null,
   "id": "fdf0216f-d568-4769-8009-50ec46221983",
   "metadata": {},
   "outputs": [],
   "source": [
    "dataframe[\"column_name\"].str.split(\":\").str.get(0) # converting to string splitting "
   ]
  },
  {
   "cell_type": "code",
   "execution_count": null,
   "id": "f70dfb4f-edde-499b-9546-c9588541a634",
   "metadata": {},
   "outputs": [],
   "source": [
    "dataframe[[\"column_name\",\"column_name\"]] = dataframe[\"column_name\"].str.split(\":\", expand = True) # splitting data assign it to two data frame"
   ]
  },
  {
   "cell_type": "code",
   "execution_count": null,
   "id": "915ad4f9-6784-4f62-a4de-1d00413ba81e",
   "metadata": {},
   "outputs": [],
   "source": [
    "dataframe[\"column_name\"].str.cat(dataframe[\"column_name\"], sep = \" \") # concatinatting two text columns "
   ]
  },
  {
   "cell_type": "code",
   "execution_count": null,
   "id": "db33f993-b6fd-4e26-b86a-e99d053bc55f",
   "metadata": {},
   "outputs": [],
   "source": [
    "# setting multi index\n",
    "dataframe.set_index([\"column_name\",\"column_name\"], inplace = True) # setting index and changing dataframe by inplace method \n",
    "\n",
    "# indexing  from an array\n",
    "array = [[\"string\",\"string\",\"string\"],[\"string\",\"string\",\"string\"]]\n",
    "dataframe.index = pd.MultiIndex.from_arrays(array, names = [\"index_column_name\", \"index_column_name\"])"
   ]
  },
  {
   "cell_type": "code",
   "execution_count": null,
   "id": "6db53ed7-d248-4689-84b0-90b3069d83fd",
   "metadata": {},
   "outputs": [],
   "source": [
    "# creating a dataframe by array index and column labels \n",
    "index = pd.MultiIndex.from_arrays([[\"string\",\"string\",\"string\"],[\"string\",\"string\",\"string\"]], names = [\"index_column_name\",\"index_column_name\"])\n",
    "columns = pd.MultiIndex.from_arrays([[\"column_name\",\"column_name\"],[\"column_name\",\"column_name\"]], names = [\"column_name\",\"column_name\"])\n",
    "dataframe = pd.DataFrame(data, index = index, columns = columns) "
   ]
  },
  {
   "cell_type": "code",
   "execution_count": null,
   "id": "88510075-3a65-4fa6-99e6-15040bb32199",
   "metadata": {},
   "outputs": [],
   "source": [
    "# rearrage a level of the columns to obtain a reshaped dataframe with a new inner-most level row index \n",
    "dataframe_stacked = dataframe.stack()\n",
    "dataframe_stacked = dataframe.stack(level = 0) # by level\n",
    "dataframe_stacked = dataframe.stack(level = [0,1]) # stakking multiple level\n",
    "dataframe_stacked = dataframe.stack(level = \"column_name\") # by column name\n",
    "dataframe_stacked = dataframe.stack(level = [\"column_name\",\"column_name\"]) # stakking multiple level"
   ]
  },
  {
   "cell_type": "code",
   "execution_count": null,
   "id": "e563e6bd-ab79-46a9-a8c1-d56a7bb60499",
   "metadata": {},
   "outputs": [],
   "source": [
    "# rearrange a level of the row index into the columns to obtain a reshaped Data frame with a new inner most level column_index\n",
    "dataframe = dataframe_stacked.unstack() \n",
    "dataframe = dataframe_stacked.unstack(level = 1) # by number \n",
    "dataframe = dataframe_stacked.unstack(level = [1,2]) # unstakking multiple level\n",
    "dataframe = dataframe_stacked.unstack(level = \"column_name\")  # by column_name\n",
    "dataframe = dataframe_stacked.unstack(level = [\"column_name\",\"column_name\"]) # unstakking multiple level\n",
    "dataframe.unstack(level = 1).stack(level = 0)"
   ]
  },
  {
   "cell_type": "code",
   "execution_count": null,
   "id": "33fc93bf-b3f8-4c13-bb58-59b538ec2c4a",
   "metadata": {},
   "outputs": [],
   "source": [
    "# swapping the index level \n",
    "dataframe.swaplevel(0,2) # swapping the index level one ad three \n",
    "dataframe.swaplevel(0,2, axis = 1) # using axis argument \n",
    "dataframe.swaplevel(0,2).unstack() # swapping  level and unstakking  "
   ]
  },
  {
   "cell_type": "code",
   "execution_count": null,
   "id": "8e492996-0efd-4d8f-83a5-2a19919d8f76",
   "metadata": {},
   "outputs": [],
   "source": [
    "# if sub groupe do not have the same set of labels it create na values\n",
    "dataframe.unstack(level = \"column_name\", fill_value = \"no\") # custom value for na "
   ]
  },
  {
   "cell_type": "code",
   "execution_count": null,
   "id": "aa5112a1-8771-4807-ab1d-39c011171127",
   "metadata": {},
   "outputs": [],
   "source": [
    "# staking and stats\n",
    "dataframe.stack().sum(axis=1) #  stakking the dataframe and sum across online column\n",
    "dataframe.stack().sum(axis=1).unstack() # stakking then aggragating values and unstakking\n",
    "dataframe[\"column_name\"].unstack(level = \"column_name\").diff(axis = 1)\n",
    "dataframe.stack().groupby(level = \"column_name\").sum()\n",
    "dataframe.groupby(level = 1).median().stack(level = [0,1]).unstack(level = \"column_name\")"
   ]
  },
  {
   "cell_type": "code",
   "execution_count": null,
   "id": "864c8563-1663-4dbe-b965-c0b637c526fd",
   "metadata": {},
   "outputs": [],
   "source": [
    "# Transforming a list like a column \n",
    "dataframe_exploded = dataframe[\"column_name\"].explode()\n",
    "dataframe[[\"column_name\", \"column_name\"]].merge(dataframe_exploded, left_index = True, Right_index = True)"
   ]
  },
  {
   "cell_type": "code",
   "execution_count": null,
   "id": "14e48da2-06f0-41a9-bbda-880824166ef5",
   "metadata": {},
   "outputs": [],
   "source": [
    "# chaning operations\n",
    "dataframe[\"column_name\"].str.split(\",\",expand = True)\n",
    "dataframe.assign(resulted_column_name = dataframe[\"column_name\"].str.split(\",\")).explode(\"column_name\")"
   ]
  },
  {
   "cell_type": "code",
   "execution_count": null,
   "id": "2482503b-59da-40b5-8aaf-2d9ac4261753",
   "metadata": {},
   "outputs": [],
   "source": [
    "# data normalization with pandas Json data\n",
    "from pandas import json_normalize\n",
    "dataframe = json_normalize(json_data, sep = \"_\")"
   ]
  },
  {
   "cell_type": "code",
   "execution_count": null,
   "id": "d7ea016a-3409-41a8-a6cc-cb489b235af2",
   "metadata": {},
   "outputs": [],
   "source": [
    "# altering wide to long format dataframe\n",
    "pd.wide_to_long(dataframe, stubnames = [\"column_name\"], i = [\"column_name\",\"column_name\"], j = \"feature\", spe = \"_\", suffix = \"\\w+\") "
   ]
  },
  {
   "cell_type": "code",
   "execution_count": null,
   "id": "65db36c3-c941-4095-8a36-e65576c03336",
   "metadata": {},
   "outputs": [],
   "source": [
    "# parsing complex json \n",
    "json_normalize(json_data, record_path = \"column_name\", meta = [\"column_name\", \"column_name\"])"
   ]
  },
  {
   "cell_type": "code",
   "execution_count": null,
   "id": "9adada57-77d0-4870-8d24-0fd31ec7ec73",
   "metadata": {},
   "outputs": [],
   "source": [
    "# conveting nested data\n",
    "dataframe = nested_dataframe[\"nested_column_name\"].apply(json.loads).apply(pd.Series)\n",
    "# then drop the nested column and concatinate with the dataframe "
   ]
  },
  {
   "cell_type": "markdown",
   "id": "19308da5-e12e-42fe-9c75-b91b29105e9e",
   "metadata": {},
   "source": [
    "# "
   ]
  }
 ],
 "metadata": {
  "kernelspec": {
   "display_name": "Python 3 (ipykernel)",
   "language": "python",
   "name": "python3"
  },
  "language_info": {
   "codemirror_mode": {
    "name": "ipython",
    "version": 3
   },
   "file_extension": ".py",
   "mimetype": "text/x-python",
   "name": "python",
   "nbconvert_exporter": "python",
   "pygments_lexer": "ipython3",
   "version": "3.12.4"
  }
 },
 "nbformat": 4,
 "nbformat_minor": 5
}
