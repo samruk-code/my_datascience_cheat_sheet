{
 "cells": [
  {
   "cell_type": "markdown",
   "id": "a945b233-c01d-4b88-af64-266a0b16f33d",
   "metadata": {},
   "source": [
    "# python data science toolbox 1"
   ]
  },
  {
   "cell_type": "code",
   "execution_count": null,
   "id": "d75d6f11-8ee6-4800-9a5b-2c34dfe028f4",
   "metadata": {},
   "outputs": [],
   "source": [
    "# functions are block of code which can be resused as many time as want so that no need to write same code again and again. functions are good programming \n",
    "# practice because it improve readability, if we want to alter the code it becomes easy."
   ]
  },
  {
   "cell_type": "code",
   "execution_count": null,
   "id": "77b82086-377c-4c4d-956e-988a3ffa5e17",
   "metadata": {},
   "outputs": [],
   "source": [
    "# python some build in functions \n",
    "str()\n",
    "type()"
   ]
  },
  {
   "cell_type": "code",
   "execution_count": null,
   "id": "40cfb634-483a-471e-9c03-99862eddddcc",
   "metadata": {},
   "outputs": [],
   "source": [
    "# non returning function \n",
    "def function_name(argument):\n",
    "    \"\"\" doctring for explaining the function \"\"\"\n",
    "    expression\n",
    "    print(variable)"
   ]
  },
  {
   "cell_type": "code",
   "execution_count": null,
   "id": "58319cbb-ea72-41d5-badb-c6af2a0956a2",
   "metadata": {},
   "outputs": [],
   "source": [
    "# return function \n",
    "def function_name(argument_1, argument_2):\n",
    "    \"\"\" doc string for funcinality of the function\"\"\"\n",
    "    expression\n",
    "    return value"
   ]
  },
  {
   "cell_type": "code",
   "execution_count": null,
   "id": "ed248406-7052-4814-800b-a94e3bfade9c",
   "metadata": {},
   "outputs": [],
   "source": [
    "# functions can return multiple values as a tuple which can not be changed after creation this feature called immutablity also created by ()\n",
    "# tuples can be accessed by inside the index of sqaure bracket "
   ]
  },
  {
   "cell_type": "code",
   "execution_count": null,
   "id": "b44f2ea7-fa8f-4bf8-b35a-582c0e44db4d",
   "metadata": {},
   "outputs": [],
   "source": [
    "# if function return 2 values as tuple then we can unpack it by fallowing code\n",
    "variable_name1, variable_name2 = function_name(argument1, argument_2)"
   ]
  },
  {
   "cell_type": "code",
   "execution_count": null,
   "id": "6673af0e-fc72-4c95-a963-c14c2750fbf3",
   "metadata": {},
   "outputs": [],
   "source": [
    "# creating a count entries\n",
    "def function_name(dataframe, col_name):\n",
    "    \"\"\"doc string for explaining the functions functionality\"\"\"\n",
    "    count_dictionary = {} # dictionary capture the key as a entry and value as a count \n",
    "    \n",
    "    col_name = dataframe[col_name] # define the column to iterate through \n",
    "    \n",
    "    for entry in col_name: # iterating through column\n",
    "        \n",
    "        if entry in count_dictionary.keys(): # check entry in the count_dictionary \n",
    "            count_dictionary[entry] += 1 # if there was entry add by 1\n",
    "        else:\n",
    "            count_dictionary[entry] = 1 # if there wasn't entry create first entry\n",
    "            \n",
    "    return count_dictionary  # return count dictionary "
   ]
  },
  {
   "cell_type": "code",
   "execution_count": null,
   "id": "9f5bf70e-0838-40ed-95a5-f6146ca9100a",
   "metadata": {},
   "outputs": [],
   "source": [
    "# not all objects accessible everywhere in a script, scope is part of the programme where an obejct or name may be accessible \n",
    "# global scope - defined  in main body\n",
    "# local scope -defined inside a function\n",
    "# built-in-scope - names in the pre-defined built-ins module "
   ]
  },
  {
   "cell_type": "code",
   "execution_count": null,
   "id": "c0ddf5eb-0c86-410d-a1ef-4f2e113a8920",
   "metadata": {},
   "outputs": [],
   "source": [
    "# use the keyword global within a function to alter the value of a variable defined in the global scope \n",
    "new_value = 10\n",
    "\n",
    "def square(value):                      # this function return 100 as a value \n",
    "    \"\"\" return square of the number\"\"\"  # after running  this function new_value set to 100 \n",
    "    global new_value\n",
    "    new_value = new_value ** 2\n",
    "    return new_value\n",
    "\n",
    "square(3) "
   ]
  },
  {
   "cell_type": "code",
   "execution_count": null,
   "id": "c95202fd-7ae9-4f5b-90d6-25298ce67c28",
   "metadata": {},
   "outputs": [],
   "source": [
    "# import builtins - for import python built in module dir(builtins) to print a list of all the names in the module builtins \n",
    "# All of Python's built-in objects live in this module. They're automatically loaded to the built-in scope when you run the Python interpreter.\n",
    "# Python searches builtins last in its LEGB (Local -> Enclosing function -> Global -> Built-in) lookup, so you get all the names it defines for free.\n",
    "# This means that you can use them without importing any module"
   ]
  },
  {
   "cell_type": "code",
   "execution_count": null,
   "id": "fef6b36d-f938-427b-bc01-3ed8a2ea39b8",
   "metadata": {},
   "outputs": [],
   "source": [
    "# nested functions - python searches the local scope of the inner function then if it doesn't find value it searches the scope of the function outer\n",
    "# which is called an enclosing functions because it encloses the functions inner\n",
    "\n",
    "# use cases of nested fuctions \n",
    "# want to use a process a number of times within a functions \n",
    "# return inner function by outer function \n",
    "# nonlocal argument to change to chnage outer function local value  "
   ]
  },
  {
   "cell_type": "code",
   "execution_count": null,
   "id": "1b96266a-c8c7-4599-8565-0e44d0633b2a",
   "metadata": {},
   "outputs": [],
   "source": [
    "# process a number of times with in functions\n",
    "\n",
    "def outer_function_name(value_1, value_2, value_3):\n",
    "    def inner_function_name(value):\n",
    "        expression\n",
    "    return (inner_function_name(value1), inner_function_name(value2), inner_function_name(value_3)) \n",
    "\n",
    "outer_function_name(value_1,value_2,value_3) # after running the outer function inner function ran 3 times "
   ]
  },
  {
   "cell_type": "code",
   "execution_count": null,
   "id": "673375cd-6856-463b-81a5-c6b3218bfc0d",
   "metadata": {},
   "outputs": [],
   "source": [
    "# return inner function by outer function  this refferred as a closure property \n",
    "def outer_function(value0):\n",
    "    def inner_function(value1):\n",
    "        expression\n",
    "        return inner_function_value\n",
    "    return inner_function \n",
    "\n",
    "variable_name = outer_function(value0) # it create encloser function create encloser value to look inner function \n",
    "variable_name(value1) # it get value from outer function to do the computation basically this is the inner function "
   ]
  },
  {
   "cell_type": "code",
   "execution_count": null,
   "id": "150e9167-0457-4ee5-aa48-08efbcdcd1c2",
   "metadata": {},
   "outputs": [],
   "source": [
    "# nonlocal argument to change to chnage outer function local value\n",
    "def outer():\n",
    "    value = 1\n",
    "    def inner():\n",
    "        nonlocal value  # this chnage value of the outer function \n",
    "        value = 2 \n",
    "        print(value)\n",
    "    inner()\n",
    "    print()\n",
    "\n",
    "outer()  # print 2 , 2 "
   ]
  },
  {
   "cell_type": "code",
   "execution_count": null,
   "id": "ccb15d0c-c3e5-4063-a96e-c2a4faf36a62",
   "metadata": {},
   "outputs": [],
   "source": [
    "# wrtting function with default argument \n",
    "def function_name(value, multiplyer = 2): # if did not passed value for multiplyer it use default value 2 \n",
    "    return = value * multiplyer "
   ]
  },
  {
   "cell_type": "code",
   "execution_count": null,
   "id": "c8966245-a579-46af-aed2-b71e4426b169",
   "metadata": {},
   "outputs": [],
   "source": [
    "# flexible argument \n",
    "def add_value(*args):\n",
    "    sum = 0 \n",
    "    for num in args:\n",
    "        sum += num \n",
    "    return sum # *args capture all the argument as a iterable then iterate through and sum alltogether"
   ]
  },
  {
   "cell_type": "code",
   "execution_count": null,
   "id": "cd1d0ee9-aac9-4755-9c1f-2b90afbd0a49",
   "metadata": {},
   "outputs": [],
   "source": [
    "def print_all(**kwargs): # **kwargs capture all the argument as a dictionary then interate through it to get values \n",
    "    for key, value in kwargs.items():\n",
    "        print(key, + \" \" +, value)"
   ]
  },
  {
   "cell_type": "code",
   "execution_count": null,
   "id": "effbbd27-f418-47c0-849b-51d450c40740",
   "metadata": {},
   "outputs": [],
   "source": [
    "# creating count entries with for multiple column using *args\n",
    "def count_entries(dataframe, *args):\n",
    "    count_dictionary = {} # creating emty dictionary \n",
    "    for col_name in args: # loop through he given column_name\n",
    "        column = dataframe[col_name] # subsetting the dataframe by column_name\n",
    "        for entry in column: # loop throught the every single entry in the particular column \n",
    "            if entry in count_dictionary.keys(): # check entry and count_dictionary keys\n",
    "                count_dictionary[entry] += 1 # if there was a match add 1 to value\n",
    "            else:\n",
    "                count_dictionary[entry] = 1 # if there wasn't a match create a value\n",
    "    return count_dictionary # return count_dictionary "
   ]
  },
  {
   "cell_type": "code",
   "execution_count": null,
   "id": "3417867f-2f69-4afd-b3ec-757aa49d0a6a",
   "metadata": {},
   "outputs": [],
   "source": [
    "# lambda functions \n",
    "function_name = lambda argument, argument: expression # basic anatomy of the lambda function "
   ]
  },
  {
   "cell_type": "code",
   "execution_count": null,
   "id": "eba48f83-5aa5-484f-9fd5-376544ff6027",
   "metadata": {},
   "outputs": [],
   "source": [
    "# map() function in python applies the given function to a sequence of argument \n",
    "variable_name = map(function, sequene_object) #  it create a map object then we need to convert those values by calling list\n",
    "list(variable_name)"
   ]
  },
  {
   "cell_type": "code",
   "execution_count": null,
   "id": "2104a3ef-3296-4ee3-bcb0-5035c2cacf80",
   "metadata": {},
   "outputs": [],
   "source": [
    "# filter function in python filter the sequence of data by given condition \n",
    "variabe_name = filter(function, sequence_object) # it create a filter object then we need to pass it to a list\n",
    "list(variable_name)"
   ]
  },
  {
   "cell_type": "code",
   "execution_count": null,
   "id": "ee6dc17b-e3a2-4c3e-873b-1ea45c81bb22",
   "metadata": {},
   "outputs": [],
   "source": [
    "from functools import reduce \n",
    "variable_name = reduce(function, sequence) # do some computation then return as a single value "
   ]
  },
  {
   "cell_type": "code",
   "execution_count": null,
   "id": "7287d27e-7962-4192-a4d2-2ace101705b4",
   "metadata": {},
   "outputs": [],
   "source": [
    "# error handling \n",
    "try:\n",
    "    expression # try this code\n",
    "except ErrorType:\n",
    "    expression # if there is a exception do this"
   ]
  },
  {
   "cell_type": "code",
   "execution_count": null,
   "id": "5aeeb7cc-659c-44f0-807d-f8b4a3e3f0ed",
   "metadata": {},
   "outputs": [],
   "source": [
    "# error handling \n",
    "if condition:\n",
    "    raise ErrorType(\"string_to_output\") # raise exception \n",
    "try:\n",
    "    expression # try this code\n",
    "except ErrorType:\n",
    "    expression # if there is a exception do this"
   ]
  },
  {
   "cell_type": "code",
   "execution_count": null,
   "id": "20bf8f01-ea04-4637-9174-983da0aa1755",
   "metadata": {},
   "outputs": [],
   "source": [
    "# creating a count entries\n",
    "def function_name(dataframe, col_name):\n",
    "    \"\"\"doc string for explaining the functions functionality\"\"\"\n",
    "    count_dictionary = {} # dictionary capture the key as a entry and value as a count \n",
    "    try:\n",
    "         col_name = dataframe[col_name] # define the column to iterate through \n",
    "    \n",
    "         for entry in col_name: # iterating through column\n",
    "        \n",
    "            if entry in count_dictionary.keys(): # check entry in the count_dictionary \n",
    "               count_dictionary[entry] += 1 # if there was entry add by 1\n",
    "            else:\n",
    "               count_dictionary[entry] = 1 # if there wasn't entry create first entry\n",
    "            \n",
    "         return count_dictionary  # return count dictionary \n",
    "    except:\n",
    "        print(\"This dataframe does not contain the\" + col_name + \"column\")"
   ]
  },
  {
   "cell_type": "code",
   "execution_count": null,
   "id": "c265ddd5-2d61-4568-9285-d120c9a1e21e",
   "metadata": {},
   "outputs": [],
   "source": [
    "# if not we an use raise the place of try\n",
    "if col_name not in dataframe.columns:\n",
    "    raise ValueError print(\"This dataframe does not contain the\" + col_name + \"column\")"
   ]
  },
  {
   "cell_type": "markdown",
   "id": "c6edf81b-a5d2-4267-bb6e-1c166b430efa",
   "metadata": {},
   "source": [
    "# python data science toolbox part 2"
   ]
  },
  {
   "cell_type": "code",
   "execution_count": null,
   "id": "bcb08852-fa45-4190-b186-45ee1451732c",
   "metadata": {},
   "outputs": [],
   "source": [
    "# range object \n",
    "range(start, end, step) # end is exclusive \n",
    "\n",
    "for i in range(10,60,5):\n",
    "    print(i)"
   ]
  },
  {
   "cell_type": "code",
   "execution_count": null,
   "id": "8fd4fb16-5413-4240-9816-990665aebbe1",
   "metadata": {},
   "outputs": [],
   "source": [
    "# iterable are lists, strings, dictionaries, file connections obejct with iter() method create a iterator\n",
    "# iterator used next function to return next value of the interable objet such as range object"
   ]
  },
  {
   "cell_type": "code",
   "execution_count": null,
   "id": "3f37b755-9421-4ccf-9bd5-fcbd97b76a52",
   "metadata": {},
   "outputs": [],
   "source": [
    "inter() # take iterable as a argument and act like a iterator also we can use next() function to print next value"
   ]
  },
  {
   "cell_type": "code",
   "execution_count": null,
   "id": "5422ba39-2a0b-4275-af2d-a7dd1146320f",
   "metadata": {},
   "outputs": [],
   "source": [
    "variable = \"data\"\n",
    "iterator = iter(variable)\n",
    "print(**iterator) "
   ]
  },
  {
   "cell_type": "code",
   "execution_count": null,
   "id": "f2cb062e-f8e4-4dad-ade0-5b259bccad1b",
   "metadata": {},
   "outputs": [],
   "source": [
    "# same as file connections \n",
    "file = open(\"file_name\")\n",
    "iterator = iter(file)\n",
    "print(next(iterator))"
   ]
  },
  {
   "cell_type": "code",
   "execution_count": null,
   "id": "a4106d0c-3b4f-4674-95c4-b8763899b3b4",
   "metadata": {},
   "outputs": [],
   "source": [
    "# enumerate() - this iterator takes iterable as a argument and create a list of tuples index and respective element from the given iterable\n",
    "variable = enumerate(iterable) # enumerate obejct type we need to pass it to list to print the values \n",
    "variable = enumerate(iterable, start=10)"
   ]
  },
  {
   "cell_type": "code",
   "execution_count": null,
   "id": "23717f88-5d62-45ef-a3f0-e2849d52c305",
   "metadata": {},
   "outputs": [],
   "source": [
    "# zip() takes two iterable then return list of tuples which is elements of iterables respective their index \n",
    "zip(iterable, iterable) # it return zip object \n",
    "list(zip(iterable,iterable)) # pass the zip obejct to list to print values \n",
    "print(*zip(iterable,iterable)) # print zip with *"
   ]
  },
  {
   "cell_type": "code",
   "execution_count": null,
   "id": "2babc2ad-b667-4d24-a010-4de80cdf3a3e",
   "metadata": {},
   "outputs": [],
   "source": [
    "# loading data in chunks\n",
    "import pandas as pd\n",
    "result = []\n",
    "for chunk in pd.read_csv(\"filename\", chunksize = 10000):\n",
    "    result.append(sum(chunk[\"x\"])) \n",
    "total = sum(result)"
   ]
  }
 ],
 "metadata": {
  "kernelspec": {
   "display_name": "Python 3 (ipykernel)",
   "language": "python",
   "name": "python3"
  },
  "language_info": {
   "codemirror_mode": {
    "name": "ipython",
    "version": 3
   },
   "file_extension": ".py",
   "mimetype": "text/x-python",
   "name": "python",
   "nbconvert_exporter": "python",
   "pygments_lexer": "ipython3",
   "version": "3.12.4"
  }
 },
 "nbformat": 4,
 "nbformat_minor": 5
}
